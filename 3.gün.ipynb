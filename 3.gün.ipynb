{
 "cells": [
  {
   "cell_type": "code",
   "execution_count": 2,
   "id": "9201a7b4",
   "metadata": {},
   "outputs": [
    {
     "name": "stdout",
     "output_type": "stream",
     "text": [
      "()\n",
      "(10, 'ali', 10, 4)\n"
     ]
    }
   ],
   "source": [
    "#demet oluşturma\n",
    "demet= ()\n",
    "print(demet)\n",
    "t = (10,\"ali\",10,4)\n",
    "print(t)"
   ]
  },
  {
   "cell_type": "code",
   "execution_count": 3,
   "id": "be51e2f8",
   "metadata": {},
   "outputs": [
    {
     "name": "stdout",
     "output_type": "stream",
     "text": [
      "(1, [2, 3, 4], 'ali')\n"
     ]
    }
   ],
   "source": [
    "t= (1,[2,3,4],\"ali\")\n",
    "print(t)"
   ]
  },
  {
   "cell_type": "code",
   "execution_count": 5,
   "id": "4fc14a04",
   "metadata": {},
   "outputs": [
    {
     "name": "stdout",
     "output_type": "stream",
     "text": [
      "[1, (2, 3, 4), 'ali']\n"
     ]
    }
   ],
   "source": [
    "a=[1,(2,3,4),\"ali\"]\n",
    "print(a)"
   ]
  },
  {
   "cell_type": "code",
   "execution_count": 7,
   "id": "54503a0a",
   "metadata": {},
   "outputs": [
    {
     "name": "stdout",
     "output_type": "stream",
     "text": [
      "1\n",
      "(2, 3, 4)\n",
      "2\n"
     ]
    }
   ],
   "source": [
    "a=[1,(2,3,4),\"ali\"]\n",
    "print(a[0])\n",
    "print(a[1])\n",
    "print(a[1][0])\n"
   ]
  },
  {
   "cell_type": "code",
   "execution_count": 10,
   "id": "521ea7d3",
   "metadata": {},
   "outputs": [
    {
     "name": "stdout",
     "output_type": "stream",
     "text": [
      "('ali', 123, 34.7)\n",
      "(123, 34.7)\n"
     ]
    }
   ],
   "source": [
    "t=(\"ali\",123,34.7)\n",
    "print(t)\n",
    "k=t[1:3]\n",
    "print(k)"
   ]
  },
  {
   "cell_type": "code",
   "execution_count": 11,
   "id": "aba9dcc2",
   "metadata": {},
   "outputs": [
    {
     "ename": "TypeError",
     "evalue": "'tuple' object does not support item assignment",
     "output_type": "error",
     "traceback": [
      "\u001b[1;31m---------------------------------------------------------------------------\u001b[0m",
      "\u001b[1;31mTypeError\u001b[0m                                 Traceback (most recent call last)",
      "Cell \u001b[1;32mIn[11], line 2\u001b[0m\n\u001b[0;32m      1\u001b[0m demet\u001b[38;5;241m=\u001b[39m(\u001b[38;5;124m\"\u001b[39m\u001b[38;5;124mali\u001b[39m\u001b[38;5;124m\"\u001b[39m,\u001b[38;5;241m123\u001b[39m,\u001b[38;5;241m34.7\u001b[39m)\n\u001b[1;32m----> 2\u001b[0m demet[\u001b[38;5;241m1\u001b[39m]\u001b[38;5;241m=\u001b[39m\u001b[38;5;241m5\u001b[39m\n",
      "\u001b[1;31mTypeError\u001b[0m: 'tuple' object does not support item assignment"
     ]
    }
   ],
   "source": [
    "demet=(\"ali\",123,34.7)\n",
    "demet[1]=5"
   ]
  },
  {
   "cell_type": "code",
   "execution_count": 13,
   "id": "ebea1f2f",
   "metadata": {},
   "outputs": [
    {
     "name": "stdout",
     "output_type": "stream",
     "text": [
      "<class 'tuple'>\n",
      "<class 'list'>\n"
     ]
    }
   ],
   "source": [
    "demet=(\"ali\",123,34.7)\n",
    "print(type(demet))\n",
    "liste=list(demet)\n",
    "print(type(liste))\n"
   ]
  },
  {
   "cell_type": "code",
   "execution_count": 14,
   "id": "5baea074",
   "metadata": {},
   "outputs": [
    {
     "name": "stdout",
     "output_type": "stream",
     "text": [
      "<class 'tuple'>\n"
     ]
    }
   ],
   "source": [
    "a=[1,2,3,4,5]\n",
    "t=tuple(a)\n",
    "print(type(t))"
   ]
  },
  {
   "cell_type": "code",
   "execution_count": 15,
   "id": "e2a6530b",
   "metadata": {},
   "outputs": [
    {
     "name": "stdout",
     "output_type": "stream",
     "text": [
      "1\n",
      "2\n"
     ]
    }
   ],
   "source": [
    "demet=(\"Python\",\"Java\",\"Ruby\",\"Javascript\",\"Python\",\"Java\",\"python\")\n",
    "print(demet.index(\"Java\")) #ilk bulduğu indexi verir.\n",
    "print(demet.count(\"Python\"))"
   ]
  },
  {
   "cell_type": "code",
   "execution_count": 16,
   "id": "3110adef",
   "metadata": {},
   "outputs": [
    {
     "name": "stdout",
     "output_type": "stream",
     "text": [
      "python Java Ruby\n"
     ]
    }
   ],
   "source": [
    "demet =(\"python\",\"Java\",\"Ruby\")\n",
    "a,b,c=demet\n",
    "print(a,b,c)"
   ]
  },
  {
   "cell_type": "code",
   "execution_count": 20,
   "id": "4cdca093",
   "metadata": {},
   "outputs": [
    {
     "name": "stdout",
     "output_type": "stream",
     "text": [
      "<class 'set'>\n",
      "{2, 5, 78, 14}\n",
      "<class 'set'>\n"
     ]
    }
   ],
   "source": [
    "kume={1,2,3,4,5}\n",
    "print(type(kume))\n",
    "liste=[2,5,78,14,2]\n",
    "kume2=set(liste)\n",
    "print(kume2)\n",
    "print(type(kume2))"
   ]
  },
  {
   "cell_type": "markdown",
   "id": "ad422afc",
   "metadata": {},
   "source": [
    "küme elamanlarını birden fazla yazmamızı kabul eder hata vermez ancak program çalıştığında bir tane göterir."
   ]
  },
  {
   "cell_type": "code",
   "execution_count": 24,
   "id": "0d6bbae1",
   "metadata": {},
   "outputs": [
    {
     "name": "stdout",
     "output_type": "stream",
     "text": [
      "{1, 2, 3, 4, 5}\n"
     ]
    }
   ],
   "source": [
    "kume={1,2,3,4,5}\n",
    "print(kume)"
   ]
  },
  {
   "cell_type": "code",
   "execution_count": 26,
   "id": "f5faa856",
   "metadata": {},
   "outputs": [
    {
     "name": "stdout",
     "output_type": "stream",
     "text": [
      "<class 'set'>\n"
     ]
    }
   ],
   "source": [
    "s=set()\n",
    "print(type(s))"
   ]
  },
  {
   "cell_type": "code",
   "execution_count": 27,
   "id": "b65ac274",
   "metadata": {},
   "outputs": [
    {
     "name": "stdout",
     "output_type": "stream",
     "text": [
      "{'muz', 'kebap', 'çilek', 'armut', 'elma'}\n"
     ]
    }
   ],
   "source": [
    "kume=set([\"elma\",\"armut\",\"kebap\"])\n",
    "kume.add(\"çilek\")\n",
    "kume.add(\"muz\")\n",
    "print(kume)"
   ]
  },
  {
   "cell_type": "code",
   "execution_count": 33,
   "id": "00dc3c0b",
   "metadata": {},
   "outputs": [
    {
     "ename": "KeyError",
     "evalue": "'pop from an empty set'",
     "output_type": "error",
     "traceback": [
      "\u001b[1;31m---------------------------------------------------------------------------\u001b[0m",
      "\u001b[1;31mKeyError\u001b[0m                                  Traceback (most recent call last)",
      "Cell \u001b[1;32mIn[33], line 1\u001b[0m\n\u001b[1;32m----> 1\u001b[0m \u001b[38;5;28mprint\u001b[39m(kume\u001b[38;5;241m.\u001b[39mpop())\n",
      "\u001b[1;31mKeyError\u001b[0m: 'pop from an empty set'"
     ]
    }
   ],
   "source": [
    "print(kume.pop())"
   ]
  },
  {
   "cell_type": "code",
   "execution_count": 35,
   "id": "a727e27d",
   "metadata": {},
   "outputs": [
    {
     "name": "stdout",
     "output_type": "stream",
     "text": [
      "True\n",
      "True\n",
      "False\n"
     ]
    }
   ],
   "source": [
    "s1={1,2,\"ali\",(3,4)}\n",
    "s2={1,2}\n",
    "print(s2.issubset(s1))\n",
    "print(s2<=s1)\n",
    "print(s1<=s2)"
   ]
  },
  {
   "cell_type": "code",
   "execution_count": 37,
   "id": "8401e19a",
   "metadata": {},
   "outputs": [
    {
     "name": "stdout",
     "output_type": "stream",
     "text": [
      "{'banana', 'cherry'}\n",
      "{'banana', 'apple', 'cherry'}\n",
      "{'microsoft', 'google', 'apple'}\n"
     ]
    }
   ],
   "source": [
    "a={\"apple\",\"banana\",\"cherry\"}\n",
    "b={\"google\",\"apple\",\"microsoft\"}\n",
    "z=a.difference(b)\n",
    "print(z)\n",
    "print(a)\n",
    "print(b)"
   ]
  },
  {
   "cell_type": "code",
   "execution_count": 39,
   "id": "76751092",
   "metadata": {},
   "outputs": [
    {
     "name": "stdout",
     "output_type": "stream",
     "text": [
      "False\n",
      "True\n",
      "False\n"
     ]
    }
   ],
   "source": [
    "s1={1,2,\"ali\",(3,4)}\n",
    "s2={1,2}\n",
    "print(s2.issuperset(s1))\n",
    "print(s2<=s1)\n",
    "print(s2>=s1)"
   ]
  },
  {
   "cell_type": "code",
   "execution_count": 41,
   "id": "cdae3659",
   "metadata": {},
   "outputs": [
    {
     "name": "stdout",
     "output_type": "stream",
     "text": [
      "False\n"
     ]
    }
   ],
   "source": [
    "s1={1,2,\"ali\",(3,4)}\n",
    "s2={1,2}\n",
    "print(s2.isdisjoint(s1))"
   ]
  },
  {
   "cell_type": "code",
   "execution_count": 44,
   "id": "518880c5",
   "metadata": {},
   "outputs": [
    {
     "name": "stdout",
     "output_type": "stream",
     "text": [
      "{1, 2, (3, 4), 'ali'}\n",
      "{1, 2, (3, 4), 'ali'}\n"
     ]
    }
   ],
   "source": [
    "s1={1,2,\"ali\",(3,4)}\n",
    "s2={1,2}\n",
    "c=s1.union(s2)\n",
    "print(c)\n",
    "d= s1 |s2\n",
    "print(d)"
   ]
  },
  {
   "cell_type": "code",
   "execution_count": 65,
   "id": "8c2ce173",
   "metadata": {},
   "outputs": [
    {
     "name": "stdout",
     "output_type": "stream",
     "text": [
      "4\n",
      "{226, 715, 158, 559}\n"
     ]
    }
   ],
   "source": [
    "import random\n",
    "liste=list()\n",
    "for i in range(100):\n",
    "    a= random.randint(0,1000)\n",
    "    liste.append(a)\n",
    "\n",
    "kume=set()\n",
    "b=set(liste)\n",
    "print(len(liste)-len(b))\n",
    "for i in liste:\n",
    "    if 1<liste.count(i):\n",
    "        kume.add(i)\n",
    "        \n",
    "print(kume)"
   ]
  },
  {
   "cell_type": "code",
   "execution_count": 74,
   "id": "a8622c4b",
   "metadata": {},
   "outputs": [
    {
     "name": "stdout",
     "output_type": "stream",
     "text": [
      "<class 'set'>\n",
      "{0, 3, 5, 8, 10, 14, 17, 18, 21, 22, 25, 27, 30, 31, 32, 35, 36, 39, 41, 46, 48, 49, 59, 60, 62, 63, 64, 65, 66, 69, 70, 75, 78, 81, 85, 86, 88, 93, 97, 98, 99, 100}\n",
      "50.357142857142854\n"
     ]
    }
   ],
   "source": [
    "import random\n",
    "liste=set()\n",
    "liste2=set()\n",
    "for i in range(100):\n",
    "    a= random.randint(0,100)\n",
    "    b= random.randint(0,100)\n",
    "    liste.add(a)\n",
    "    liste2.add(b)\n",
    "kesisim= liste.intersection(liste2)\n",
    "print(type(kesisim))\n",
    "\n",
    "z=liste.difference(liste2)\n",
    "t=liste2.difference(liste)\n",
    "for i in z:\n",
    "    liste.remove(i)\n",
    "print(liste)\n",
    "kesisim= liste.intersection(liste2)\n",
    "top=0\n",
    "for i in kesisim:\n",
    "    top+=i\n",
    "print(top/len(kesisim))"
   ]
  },
  {
   "cell_type": "code",
   "execution_count": 2,
   "id": "01380205",
   "metadata": {},
   "outputs": [
    {
     "name": "stdout",
     "output_type": "stream",
     "text": [
      "{'ali': 123, 'veli': 345, 'selami': 34}\n",
      "<class 'dict'>\n"
     ]
    }
   ],
   "source": [
    "#sözlük oluşturma\n",
    "sozluk={\"ali\":123,\"veli\":345,\"selami\":34}\n",
    "print(sozluk)\n",
    "print(type(sozluk))"
   ]
  },
  {
   "cell_type": "code",
   "execution_count": 5,
   "id": "364f7fbf",
   "metadata": {},
   "outputs": [
    {
     "name": "stdout",
     "output_type": "stream",
     "text": [
      "(1, 2, 30)\n",
      "umut\n"
     ]
    }
   ],
   "source": [
    "sozluk={\"ali\":(1,2,30),\"mamet\":[5,4,78]}\n",
    "print(sozluk[\"ali\"])\n",
    "sozluk[\"ali\"]=\"umut\"\n",
    "print(sozluk[\"ali\"])"
   ]
  },
  {
   "cell_type": "code",
   "execution_count": 6,
   "id": "1c00c669",
   "metadata": {},
   "outputs": [
    {
     "name": "stdout",
     "output_type": "stream",
     "text": [
      "{'ad': 'ali', 'yas': 40, 'memleketi': 'konya'}\n",
      "{'ad': 'ali', 'yas': 45, 'memleketi': 'konya'}\n",
      "{'ad': 'ali', 'yas': 45, 'memleketi': 'konya', 'adres': 'nişantaşı'}\n",
      "{'ad': 'ali', 'memleketi': 'konya', 'adres': 'nişantaşı'}\n"
     ]
    }
   ],
   "source": [
    "kisi_bilgileri={\"ad\":\"ali\",\"yas\":40,\"memleketi\":\"konya\"}\n",
    "print(kisi_bilgileri)\n",
    "kisi_bilgileri[\"yas\"]=45\n",
    "print(kisi_bilgileri)\n",
    "kisi_bilgileri[\"adres\"]=\"nişantaşı\"\n",
    "print(kisi_bilgileri)\n",
    "kisi_bilgileri.pop(\"yas\")\n",
    "print(kisi_bilgileri)"
   ]
  },
  {
   "cell_type": "code",
   "execution_count": 8,
   "id": "306da012",
   "metadata": {},
   "outputs": [
    {
     "name": "stdout",
     "output_type": "stream",
     "text": [
      "{'adı': 'ekrem', 'sayadı': 'yıldırır', 'yaşı': 40}\n",
      "('yaşı', 40)\n"
     ]
    }
   ],
   "source": [
    "kisi_bilgileri={\n",
    "    \"adı\":\"ekrem\",\n",
    "    \"sayadı\":\"yıldırır\",\n",
    "    \"yaşı\":40\n",
    "}\n",
    "print(kisi_bilgileri)\n",
    "print(kisi_bilgileri.popitem())"
   ]
  },
  {
   "cell_type": "code",
   "execution_count": 10,
   "id": "887259fa",
   "metadata": {},
   "outputs": [
    {
     "name": "stdout",
     "output_type": "stream",
     "text": [
      "31\n"
     ]
    }
   ],
   "source": [
    "kisiler={\n",
    "    \"ahmet özkoparan\":{\n",
    "        \"memleket\":\"istanbul\",\n",
    "        \"meslek\":\"öğretmen\",\n",
    "        \"yaş\":34\n",
    "    },\n",
    "    \"seda bayrak\":{\n",
    "        \"memleket\":\"istanbul\",\n",
    "        \"meslek\":\"öğretmen\",\n",
    "        \"yaş\":30\n",
    "    }\n",
    "}\n",
    "kisiler[\"seda bayrak\"][\"yaş\"]+=1\n",
    "print(kisiler[\"seda bayrak\"][\"yaş\"])"
   ]
  },
  {
   "cell_type": "code",
   "execution_count": 13,
   "id": "4a93a7a9",
   "metadata": {},
   "outputs": [
    {
     "name": "stdout",
     "output_type": "stream",
     "text": [
      "1\n",
      "2\n",
      "3\n",
      "4\n",
      "5\n",
      "1\n",
      "2\n",
      "3\n",
      "4\n",
      "5\n",
      "ali\n",
      "veli\n",
      "selami\n",
      "ayşe\n",
      "fatma\n",
      "ali\n",
      "veli\n",
      "selami\n",
      "ayşe\n",
      "fatma\n",
      "1 ali\n",
      "2 veli\n",
      "3 selami\n",
      "4 ayşe\n",
      "5 fatma\n"
     ]
    }
   ],
   "source": [
    "sozluk={1:\"ali\",2:\"veli\",3:\"selami\",4:\"ayşe\",5:\"fatma\"}\n",
    "for i in sozluk:\n",
    "    print(i)\n",
    "    \n",
    "for i in sozluk.keys():\n",
    "    print(i)\n",
    "for i in sozluk.values():\n",
    "    print(i)\n",
    "for i in sozluk:\n",
    "    print(sozluk[i])\n",
    "for i,j in sozluk.items():\n",
    "    print(i,j)"
   ]
  },
  {
   "cell_type": "code",
   "execution_count": 14,
   "id": "6956e4f1",
   "metadata": {},
   "outputs": [
    {
     "name": "stdout",
     "output_type": "stream",
     "text": [
      "dict_items([(1, 'ali'), (2, 'veli'), (3, 'selami'), (4, 'ayşe'), (5, 'fatma')])\n"
     ]
    }
   ],
   "source": [
    "sozluk={1:\"ali\",2:\"veli\",3:\"selami\",4:\"ayşe\",5:\"fatma\"}\n",
    "print(sozluk.items())\n"
   ]
  },
  {
   "cell_type": "code",
   "execution_count": 17,
   "id": "cd899a2f",
   "metadata": {},
   "outputs": [
    {
     "name": "stdout",
     "output_type": "stream",
     "text": [
      "selami\n",
      "içerde böyle bir şey yok\n",
      "aradığınız değer bulunmuyor.\n"
     ]
    }
   ],
   "source": [
    "sozluk={1:\"ali\",2:\"veli\",3:\"selami\",4:\"ayşe\",5:\"fatma\"}\n",
    "print(sozluk.get(3,\"içerde böyle bir şey yok\"))\n",
    "print(sozluk.get(9,\"içerde böyle bir şey yok\"))\n",
    "print(sozluk.get(11,\"aradığınız değer bulunmuyor.\"))"
   ]
  },
  {
   "cell_type": "code",
   "execution_count": 18,
   "id": "22d97c0a",
   "metadata": {},
   "outputs": [
    {
     "name": "stdout",
     "output_type": "stream",
     "text": [
      "{1: 'ali', 2: 'veli', 3: 'selami', 4: 'ayşe', 5: 'fatma'}\n",
      "{}\n"
     ]
    }
   ],
   "source": [
    "sozluk={1:\"ali\",2:\"veli\",3:\"selami\",4:\"ayşe\",5:\"fatma\"}\n",
    "print(sozluk)\n",
    "sozluk.clear()\n",
    "print(sozluk)"
   ]
  },
  {
   "cell_type": "code",
   "execution_count": 22,
   "id": "abe28795",
   "metadata": {},
   "outputs": [
    {
     "name": "stdout",
     "output_type": "stream",
     "text": [
      "{1: 'ali', 2: 'veli', 3: 'selami', 4: 'ayşe', 5: 'fatma'}\n",
      "{1: 'ali', 2: 'mehmet', 3: 'selami', 4: 'ayşe', 5: 'fatma'}\n",
      "{1: 'ali', 2: 'mehmet', 3: 'selami', 4: 'ayşe', 5: 'fatma'}\n",
      "{1: 'ali', 2: 'veli', 3: 'selami', 4: 'ayşe', 5: 'fatma'}\n"
     ]
    }
   ],
   "source": [
    "#copy metodu\n",
    "sozluk={1:\"ali\",2:\"veli\",3:\"selami\",4:\"ayşe\",5:\"fatma\"}\n",
    "sozluk2=sozluk\n",
    "print(sozluk2)\n",
    "sozluk[2]=\"mehmet\"\n",
    "print(sozluk)\n",
    "sozluk={1:\"ali\",2:\"veli\",3:\"selami\",4:\"ayşe\",5:\"fatma\"}\n",
    "sozluk3=sozluk.copy()\n",
    "sozluk[2]=\"mehmet\"\n",
    "print(sozluk)\n",
    "print(sozluk3)"
   ]
  },
  {
   "cell_type": "code",
   "execution_count": 23,
   "id": "857fa82e",
   "metadata": {},
   "outputs": [
    {
     "name": "stdout",
     "output_type": "stream",
     "text": [
      "{1: 'Öğrenci', 2: 'Öğrenci', 3: 'Öğrenci', 4: 'Öğrenci', 5: 'Öğrenci'}\n"
     ]
    }
   ],
   "source": [
    "liste=[1,2,3,4,5]\n",
    "deger=\"Öğrenci\"\n",
    "sozluk=dict.fromkeys(liste,deger)\n",
    "print(sozluk)"
   ]
  },
  {
   "cell_type": "code",
   "execution_count": 24,
   "id": "9ed540fe",
   "metadata": {},
   "outputs": [
    {
     "name": "stdout",
     "output_type": "stream",
     "text": [
      "{1: 'ali', 2: 'veli', 3: 'selami', 4: 'ayşe', 5: 'fatma'}\n",
      "{1: 'ali', 3: 'selami', 4: 'ayşe', 5: 'fatma'}\n"
     ]
    }
   ],
   "source": [
    "#pop verilen anahtarı siler popitem() ise son ögeyi siler.\n",
    "sozluk={1:\"ali\",2:\"veli\",3:\"selami\",4:\"ayşe\",5:\"fatma\"}\n",
    "print(sozluk)\n",
    "sozluk.pop(2)\n",
    "print(sozluk)"
   ]
  },
  {
   "cell_type": "code",
   "execution_count": 1,
   "id": "2885dd95",
   "metadata": {},
   "outputs": [
    {
     "ename": "SyntaxError",
     "evalue": "cannot assign to subscript here. Maybe you meant '==' instead of '='? (3453098530.py, line 21)",
     "output_type": "error",
     "traceback": [
      "\u001b[1;36m  Cell \u001b[1;32mIn[1], line 21\u001b[1;36m\u001b[0m\n\u001b[1;33m    ogrenciler[str(index)]={index[\"uni\"][\"fakülte\"]=input(\"fakültenizi girin:\")\u001b[0m\n\u001b[1;37m                            ^\u001b[0m\n\u001b[1;31mSyntaxError\u001b[0m\u001b[1;31m:\u001b[0m cannot assign to subscript here. Maybe you meant '==' instead of '='?\n"
     ]
    }
   ],
   "source": [
    " ogrenciler={      index:{\n",
    "                        \"uni\":{\n",
    "                            \"fakülte\":\"fak\",\n",
    "                            \"bölüm\":\"böl\",\n",
    "                            \"sınıf\":0\n",
    "                        },\n",
    "                        \"bilgileri\":{\n",
    "                            \"tc\":11111111,\n",
    "                            \"ad\":\"adı\",\n",
    "                            \"soyad\":\"soyadı\",\n",
    "                            \"doğum tarihi:\":\"11.01.1111\",\n",
    "                            \"cinsiyet\":\"belirsiz\"\n",
    "                        },\n",
    "                        \"sosyal faliyetleri\":{\n",
    "                            \"kayıtlı olduğu klüpler\":\"klübler\",\n",
    "                            \"ek görevleri\":\"görevler\"\n",
    "                        }\n",
    "        }}\n",
    "index=0\n",
    "while True:\n",
    "    ogrenciler[str(index)]={index[\"uni\"][\"fakülte\"]=input(\"fakültenizi girin:\")\n",
    "    index[\"uni\"][\"bölüm\"]=input(\"bölümü girin:\")\n",
    "    index[\"uni\"][\"sınıf\"]=int(input(\"sınıfı girin:\"))\n",
    "    index[\"bilgileri\"][\"tc\"]=int(input(\"tcnizi girin:\"))\n",
    "    index[\"bilgileri\"][\"ad\"]=input(\"adınızı girin:\")\n",
    "    index[\"bilgileri\"][\"soyad\"]=input(\"soyadınızı girin:\")\n",
    "    index[\"bilgileri\"][\"doğum tarihi\"]=input(\"doğum tarihinizi girin:\")\n",
    "    index[\"bilgileri\"][\"cinsiyet\"]=input(\"cinyetinizi girin:\")\n",
    "    index[\"sosyal faliyetleri\"][\"kayıtlı olduğu klüpler\"]=input(\"kayıtlı olduğunuz klübleri girin:\")\n",
    "    index[\"sosyal faliyetleri\"][\"ek görevleri\"]=input(\"ek görevlerinizi girin:\")}\n",
    "    deger= input(\"öğrenci eklemeye devam etmek istiyorsanız evet yazınız kayıtları görmek için hayır yazınız:\")       \n",
    "    index+=1\n",
    "    if deger==\"hayır\":\n",
    "        break\n",
    "print(ogrenciler)"
   ]
  },
  {
   "cell_type": "code",
   "execution_count": null,
   "id": "56c1fa2e",
   "metadata": {},
   "outputs": [],
   "source": []
  },
  {
   "cell_type": "code",
   "execution_count": null,
   "id": "dbffe62d",
   "metadata": {},
   "outputs": [],
   "source": []
  }
 ],
 "metadata": {
  "kernelspec": {
   "display_name": "Python 3 (ipykernel)",
   "language": "python",
   "name": "python3"
  },
  "language_info": {
   "codemirror_mode": {
    "name": "ipython",
    "version": 3
   },
   "file_extension": ".py",
   "mimetype": "text/x-python",
   "name": "python",
   "nbconvert_exporter": "python",
   "pygments_lexer": "ipython3",
   "version": "3.11.5"
  }
 },
 "nbformat": 4,
 "nbformat_minor": 5
}
