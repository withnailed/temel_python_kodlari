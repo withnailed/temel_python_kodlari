{
 "cells": [
  {
   "cell_type": "code",
   "execution_count": 3,
   "id": "69694227",
   "metadata": {},
   "outputs": [
    {
     "name": "stdout",
     "output_type": "stream",
     "text": [
      "sayı 1 giriniz:35\n",
      "sayı 2 giriniz:12\n",
      "sayı 3 giriniz:25\n",
      "sayi 1 en büyük\n"
     ]
    }
   ],
   "source": [
    "sayi=int(input(\"sayı 1 giriniz:\"))\n",
    "sayi2=int(input(\"sayı 2 giriniz:\"))\n",
    "sayi3=int(input(\"sayı 3 giriniz:\"))\n",
    "\n",
    "if sayi<sayi2:\n",
    "    if sayi2<sayi3:\n",
    "        print(\"sayi 3 en büyük\")\n",
    "    else:\n",
    "        print(\"sayi 2 en büyük\")\n",
    "elif sayi<sayi3:\n",
    "    print(\"sayi 3 en büyük\")\n",
    "else:\n",
    "    print(\"sayi 1 en büyük\")"
   ]
  },
  {
   "cell_type": "code",
   "execution_count": 8,
   "id": "31330249",
   "metadata": {},
   "outputs": [
    {
     "name": "stdout",
     "output_type": "stream",
     "text": [
      "sezer\n"
     ]
    }
   ],
   "source": [
    " for i in range(1):\n",
    "    print(\"sezer\")"
   ]
  },
  {
   "cell_type": "code",
   "execution_count": 12,
   "id": "0d9fd5bb",
   "metadata": {},
   "outputs": [
    {
     "name": "stdout",
     "output_type": "stream",
     "text": [
      "merhaba dünya\n",
      "merhaba dünya\n",
      "merhaba dünya\n",
      "merhaba dünya\n",
      "merhaba dünya\n"
     ]
    }
   ],
   "source": [
    "sayac=1\n",
    "while sayac<6:\n",
    "    print(\"merhaba dünya\")\n",
    "    sayac+=1"
   ]
  },
  {
   "cell_type": "code",
   "execution_count": 14,
   "id": "c0c35a77",
   "metadata": {},
   "outputs": [
    {
     "name": "stdout",
     "output_type": "stream",
     "text": [
      "2,4,6,8,10,12,14,16,18,20,22,24,26,28,30,32,34,36,38,40,42,44,46,48,50,52,54,56,58,60,62,64,66,68,70,72,74,76,78,80,82,84,86,88,90,92,94,96,98,100,"
     ]
    }
   ],
   "source": [
    "sayac=1\n",
    "while sayac<101:\n",
    "    if sayac%2==0:\n",
    "        print(sayac,end=\",\")\n",
    "    sayac+=1"
   ]
  },
  {
   "cell_type": "code",
   "execution_count": 16,
   "id": "f8b9e721",
   "metadata": {},
   "outputs": [
    {
     "name": "stdout",
     "output_type": "stream",
     "text": [
      "[2, 4, 6, 8, 10, 12, 14, 16, 18, 20, 22, 24, 26, 28, 30, 32, 34, 36, 38, 40, 42, 44, 46, 48, 50, 52, 54, 56, 58, 60, 62, 64, 66, 68, 70, 72, 74, 76, 78, 80, 82, 84, 86, 88, 90, 92, 94, 96, 98]\n"
     ]
    }
   ],
   "source": [
    "dize= range(2,100,2)\n",
    "\n",
    "print(list(dize))"
   ]
  },
  {
   "cell_type": "code",
   "execution_count": 18,
   "id": "160dd031",
   "metadata": {},
   "outputs": [
    {
     "name": "stdout",
     "output_type": "stream",
     "text": [
      "ürün adı giriniz: balcan\n"
     ]
    },
    {
     "ename": "KeyboardInterrupt",
     "evalue": "Interrupted by user",
     "output_type": "error",
     "traceback": [
      "\u001b[1;31m---------------------------------------------------------------------------\u001b[0m",
      "\u001b[1;31mKeyboardInterrupt\u001b[0m                         Traceback (most recent call last)",
      "Cell \u001b[1;32mIn[18], line 3\u001b[0m\n\u001b[0;32m      1\u001b[0m liste\u001b[38;5;241m=\u001b[39m[]\n\u001b[0;32m      2\u001b[0m \u001b[38;5;28;01mwhile\u001b[39;00m \u001b[38;5;241m1\u001b[39m:\n\u001b[1;32m----> 3\u001b[0m     ürün\u001b[38;5;241m=\u001b[39m\u001b[38;5;28minput\u001b[39m(\u001b[38;5;124m\"\u001b[39m\u001b[38;5;124mürün adı giriniz: \u001b[39m\u001b[38;5;124m\"\u001b[39m)\n\u001b[0;32m      4\u001b[0m     \u001b[38;5;28;01mif\u001b[39;00m ürün\u001b[38;5;241m==\u001b[39m\u001b[38;5;124m\"\u001b[39m\u001b[38;5;124mq\u001b[39m\u001b[38;5;124m\"\u001b[39m:\n\u001b[0;32m      5\u001b[0m         \u001b[38;5;28;01mbreak\u001b[39;00m\n",
      "File \u001b[1;32m~\\anaconda3\\Lib\\site-packages\\ipykernel\\kernelbase.py:1202\u001b[0m, in \u001b[0;36mKernel.raw_input\u001b[1;34m(self, prompt)\u001b[0m\n\u001b[0;32m   1200\u001b[0m     msg \u001b[38;5;241m=\u001b[39m \u001b[38;5;124m\"\u001b[39m\u001b[38;5;124mraw_input was called, but this frontend does not support input requests.\u001b[39m\u001b[38;5;124m\"\u001b[39m\n\u001b[0;32m   1201\u001b[0m     \u001b[38;5;28;01mraise\u001b[39;00m StdinNotImplementedError(msg)\n\u001b[1;32m-> 1202\u001b[0m \u001b[38;5;28;01mreturn\u001b[39;00m \u001b[38;5;28mself\u001b[39m\u001b[38;5;241m.\u001b[39m_input_request(\n\u001b[0;32m   1203\u001b[0m     \u001b[38;5;28mstr\u001b[39m(prompt),\n\u001b[0;32m   1204\u001b[0m     \u001b[38;5;28mself\u001b[39m\u001b[38;5;241m.\u001b[39m_parent_ident[\u001b[38;5;124m\"\u001b[39m\u001b[38;5;124mshell\u001b[39m\u001b[38;5;124m\"\u001b[39m],\n\u001b[0;32m   1205\u001b[0m     \u001b[38;5;28mself\u001b[39m\u001b[38;5;241m.\u001b[39mget_parent(\u001b[38;5;124m\"\u001b[39m\u001b[38;5;124mshell\u001b[39m\u001b[38;5;124m\"\u001b[39m),\n\u001b[0;32m   1206\u001b[0m     password\u001b[38;5;241m=\u001b[39m\u001b[38;5;28;01mFalse\u001b[39;00m,\n\u001b[0;32m   1207\u001b[0m )\n",
      "File \u001b[1;32m~\\anaconda3\\Lib\\site-packages\\ipykernel\\kernelbase.py:1245\u001b[0m, in \u001b[0;36mKernel._input_request\u001b[1;34m(self, prompt, ident, parent, password)\u001b[0m\n\u001b[0;32m   1242\u001b[0m \u001b[38;5;28;01mexcept\u001b[39;00m \u001b[38;5;167;01mKeyboardInterrupt\u001b[39;00m:\n\u001b[0;32m   1243\u001b[0m     \u001b[38;5;66;03m# re-raise KeyboardInterrupt, to truncate traceback\u001b[39;00m\n\u001b[0;32m   1244\u001b[0m     msg \u001b[38;5;241m=\u001b[39m \u001b[38;5;124m\"\u001b[39m\u001b[38;5;124mInterrupted by user\u001b[39m\u001b[38;5;124m\"\u001b[39m\n\u001b[1;32m-> 1245\u001b[0m     \u001b[38;5;28;01mraise\u001b[39;00m \u001b[38;5;167;01mKeyboardInterrupt\u001b[39;00m(msg) \u001b[38;5;28;01mfrom\u001b[39;00m \u001b[38;5;28;01mNone\u001b[39;00m\n\u001b[0;32m   1246\u001b[0m \u001b[38;5;28;01mexcept\u001b[39;00m \u001b[38;5;167;01mException\u001b[39;00m:\n\u001b[0;32m   1247\u001b[0m     \u001b[38;5;28mself\u001b[39m\u001b[38;5;241m.\u001b[39mlog\u001b[38;5;241m.\u001b[39mwarning(\u001b[38;5;124m\"\u001b[39m\u001b[38;5;124mInvalid Message:\u001b[39m\u001b[38;5;124m\"\u001b[39m, exc_info\u001b[38;5;241m=\u001b[39m\u001b[38;5;28;01mTrue\u001b[39;00m)\n",
      "\u001b[1;31mKeyboardInterrupt\u001b[0m: Interrupted by user"
     ]
    }
   ],
   "source": [
    "liste=[]\n",
    "while 1:\n",
    "    ürün=input(\"ürün adı giriniz: \")\n",
    "    if ürün==\"q\":\n",
    "        break\n",
    "    liste.append(ürün)\n",
    "print(\"girdiğiniz meyveler\",liste)\n"
   ]
  },
  {
   "cell_type": "code",
   "execution_count": 20,
   "id": "cbfeb896",
   "metadata": {},
   "outputs": [
    {
     "name": "stdout",
     "output_type": "stream",
     "text": [
      "f,ı,s,t,ı,k,ç,ı,ş,a,h,a,p,"
     ]
    }
   ],
   "source": [
    "isim=\"fıstıkçışahap\"\n",
    "for i in isim:\n",
    "    print(i,end=\",\")"
   ]
  },
  {
   "cell_type": "code",
   "execution_count": 29,
   "id": "e8943beb",
   "metadata": {},
   "outputs": [
    {
     "name": "stdout",
     "output_type": "stream",
     "text": [
      "harf gir: k\n",
      "1 tane k var\n"
     ]
    }
   ],
   "source": [
    "cümle=\"# re-raise KeyboardInterrupt, to truncate traceback\"\n",
    "sayac=0\n",
    "harf=input(\"harf gir: \")\n",
    "for i in cümle:\n",
    "    if i==harf:\n",
    "        sayac+=1\n",
    "    else:\n",
    "        continue\n",
    "print( sayac,\"tane\",harf,\"var\")"
   ]
  },
  {
   "cell_type": "code",
   "execution_count": 34,
   "id": "beea7ceb",
   "metadata": {},
   "outputs": [
    {
     "name": "stdout",
     "output_type": "stream",
     "text": [
      "cumle1: merhaba\n",
      "cumle2: ankara\n",
      "m,e,h,b,"
     ]
    }
   ],
   "source": [
    "cumle=input(\"cumle1: \")\n",
    "cumle2=input(\"cumle2: \")\n",
    "liste=[]\n",
    "for i in cumle:\n",
    "    if not i in cumle2:\n",
    "        print(i,end=\",\")\n",
    "\n"
   ]
  },
  {
   "cell_type": "code",
   "execution_count": 35,
   "id": "800cdf05",
   "metadata": {},
   "outputs": [
    {
     "name": "stdout",
     "output_type": "stream",
     "text": [
      "range(0, 10)\n"
     ]
    }
   ],
   "source": [
    "print(range(10))"
   ]
  },
  {
   "cell_type": "code",
   "execution_count": 36,
   "id": "8545ceeb",
   "metadata": {},
   "outputs": [
    {
     "name": "stdout",
     "output_type": "stream",
     "text": [
      "0 1 2 3 4 5 6 7 8 9\n"
     ]
    }
   ],
   "source": [
    "print(*range(10))"
   ]
  },
  {
   "cell_type": "code",
   "execution_count": 37,
   "id": "bb1b70ed",
   "metadata": {},
   "outputs": [
    {
     "name": "stdout",
     "output_type": "stream",
     "text": [
      "1770\n"
     ]
    }
   ],
   "source": [
    "toplam=0\n",
    "for i in range(60):\n",
    "    toplam+=i\n",
    "print(toplam)"
   ]
  },
  {
   "cell_type": "code",
   "execution_count": 42,
   "id": "008cc58e",
   "metadata": {},
   "outputs": [
    {
     "name": "stdout",
     "output_type": "stream",
     "text": [
      "25\n",
      "30\n",
      "35\n",
      "40\n",
      "45\n",
      "50\n",
      "55\n",
      "60\n",
      "65\n",
      "70\n",
      "75\n",
      "80\n",
      "85\n",
      "90\n",
      "95\n"
     ]
    }
   ],
   "source": [
    "for i in range(23,100):\n",
    "    if i%5==0:\n",
    "        print(i)"
   ]
  },
  {
   "cell_type": "code",
   "execution_count": 43,
   "id": "aea7e5e4",
   "metadata": {},
   "outputs": [
    {
     "name": "stdout",
     "output_type": "stream",
     "text": [
      "1\n",
      "7\n",
      "10\n",
      "13\n",
      "16\n",
      "19\n"
     ]
    }
   ],
   "source": [
    "for i in range(1,20,3):\n",
    "    if i ==2 or i==4:\n",
    "        continue\n",
    "    print(i)"
   ]
  },
  {
   "cell_type": "code",
   "execution_count": 44,
   "id": "0256ef00",
   "metadata": {},
   "outputs": [
    {
     "name": "stdout",
     "output_type": "stream",
     "text": [
      "1\n"
     ]
    }
   ],
   "source": [
    "for i in range(1,20,3):\n",
    "    if i ==2 or i==4:\n",
    "        break\n",
    "    print(i)"
   ]
  },
  {
   "cell_type": "code",
   "execution_count": 50,
   "id": "f00803c2",
   "metadata": {},
   "outputs": [
    {
     "name": "stdout",
     "output_type": "stream",
     "text": [
      "sayı gir: 875\n",
      "[5, 7, 8]\n"
     ]
    }
   ],
   "source": [
    "dizi=[]\n",
    "sayi=int(input(\"sayı gir: \"))\n",
    "while sayi>0:\n",
    "    deger= sayi%10\n",
    "    sayi=int(sayi/10)\n",
    "    dizi.append(deger)\n",
    "    \n",
    "print(dizi)"
   ]
  },
  {
   "cell_type": "code",
   "execution_count": 59,
   "id": "3d20b780",
   "metadata": {},
   "outputs": [
    {
     "name": "stdout",
     "output_type": "stream",
     "text": [
      "ulğoılnamarham aglot\n"
     ]
    }
   ],
   "source": [
    "cumle=\"tolga mahramanlıoğlu\"\n",
    "cumle=cumle[::-1]\n",
    "print(cumle)"
   ]
  },
  {
   "cell_type": "code",
   "execution_count": 60,
   "id": "1ff42a5e",
   "metadata": {},
   "outputs": [
    {
     "name": "stdout",
     "output_type": "stream",
     "text": [
      "ali\n",
      "46\n",
      "selami\n",
      "sezer\n",
      "5679\n",
      "['ali', 46, 'selami', 'sezer', 5679]\n"
     ]
    }
   ],
   "source": [
    "liste1=[\"ali\",46,\"selami\",\"sezer\",5679]\n",
    "for i in liste1:\n",
    "    print(i)\n",
    "print(liste1)"
   ]
  },
  {
   "cell_type": "code",
   "execution_count": 61,
   "id": "9f572a10",
   "metadata": {},
   "outputs": [
    {
     "name": "stdout",
     "output_type": "stream",
     "text": [
      "[1, 2, 'ali', 3.12]\n"
     ]
    }
   ],
   "source": [
    "liste=[1,2,\"ali\",3.12]\n",
    "print(liste)"
   ]
  },
  {
   "cell_type": "code",
   "execution_count": 64,
   "id": "f3cd7b52",
   "metadata": {},
   "outputs": [
    {
     "name": "stdout",
     "output_type": "stream",
     "text": [
      "1\n",
      "3.12\n",
      "4\n",
      "mehmet umut\n",
      "t\n"
     ]
    }
   ],
   "source": [
    "liste=[1,2,\"ali\",3.12]\n",
    "print(liste[0])\n",
    "print(liste[3])\n",
    "print(len(liste))\n",
    "liste[0]=\"mehmet umut\"\n",
    "print(liste[0])\n",
    "liste=\"tolga\"\n",
    "print(liste[0])"
   ]
  },
  {
   "cell_type": "code",
   "execution_count": null,
   "id": "99618757",
   "metadata": {},
   "outputs": [],
   "source": []
  },
  {
   "cell_type": "code",
   "execution_count": 69,
   "id": "123477ee",
   "metadata": {},
   "outputs": [
    {
     "name": "stdout",
     "output_type": "stream",
     "text": [
      "[1, 2, 'ali', 3.12, 5.6, 'tolga']\n",
      "[1, 2]\n",
      "[2, 'ali']\n",
      "[1, 2, 'ali', 3.12, 5.6, 'tolga']\n",
      "15\n",
      "[1, 2, 'ali', 3.12, 5.6, 'tolga']\n"
     ]
    }
   ],
   "source": [
    "liste=[1,2,\"ali\",3.12,5.6,\"tolga\"]\n",
    "print(liste[0:])\n",
    "print(liste[0:2])\n",
    "print(liste[1:3])\n",
    "print(liste[:])\n",
    "liste=15\n",
    "print(liste)\n",
    "liste=[1,2,\"ali\",3.12,5.6,\"tolga\"]\n",
    "print(liste[:])"
   ]
  },
  {
   "cell_type": "code",
   "execution_count": 92,
   "id": "a1768f30",
   "metadata": {},
   "outputs": [
    {
     "name": "stdout",
     "output_type": "stream",
     "text": [
      "['ahmet', 'emel', 'burak', 'kemal', 'ceren', 'emel', 'süleyman', 'feyza']\n",
      "7 numaralı indeste feyza\n",
      "[]\n",
      "['ahmet', 'emel', 'burak', 'kemal', 'ceren', 'emel', 'süleyman', 'feyza']\n",
      "['ahmet', 'emel', 'burak', 'ceren', 'emel', 'süleyman', 'feyza']\n",
      "['ahmet', 'burak', 'ceren', 'emel', 'süleyman', 'feyza']\n"
     ]
    }
   ],
   "source": [
    "isimler=[\"ahmet\",\"emel\",\"burak\",\"kemal\",\"ceren\",\"emel\"]\n",
    "isimler2=[\"süleyman\",\"feyza\"]\n",
    "isimler.extend(isimler2)\n",
    "print(isimler)\n",
    "print(isimler.index(\"feyza\"),\"numaralı indeste feyza\")\n",
    "isimler2.clear()\n",
    "print(isimler2)\n",
    "print(isimler)\n",
    "isimler.pop(3)\n",
    "print(isimler)\n",
    "isimler.remove(\"emel\")\n",
    "print(isimler)"
   ]
  },
  {
   "cell_type": "code",
   "execution_count": 85,
   "id": "1c9ca39c",
   "metadata": {},
   "outputs": [
    {
     "name": "stdout",
     "output_type": "stream",
     "text": [
      "[1, 2, 'ali']\n",
      "[3.12, 5.6, 'tolga']\n",
      "3\n"
     ]
    }
   ],
   "source": [
    "liste=[1,2,\"ali\",3.12,5.6,\"tolga\"]\n",
    "uzunluk=(len(liste))//2\n",
    "liste1=liste[0:uzunluk]\n",
    "liste2=liste[uzunluk:]\n",
    "print(liste1)\n",
    "print(liste2)\n",
    "liste1.insert(15,\"tol\")\n",
    "print(liste1.index(\"tol\"))\n"
   ]
  },
  {
   "cell_type": "code",
   "execution_count": 89,
   "id": "45243379",
   "metadata": {},
   "outputs": [
    {
     "name": "stdout",
     "output_type": "stream",
     "text": [
      "['ahmet', 'emel', 'burak', 'kemal', 'ceren', 'emel']\n",
      "['ahmet', 'emel', 'burak', 'kemal', 'ceren', 'emel', 'naz']\n",
      "['ahmet', 'emel', 'burak', 'abdullah', 'kemal', 'ceren', 'emel', 'naz']\n",
      "['ahmet', 'emel', 'burak', 'abdullah', 'kemal', 'ceren', 'emel', 'naz']\n",
      "emel isiminin sayısı: 2\n",
      "['ahmet', 'emel', 'burak', 'abdullah', 'umut', 'kemal', 'ceren', 'emel', 'naz', 'tolga']\n"
     ]
    }
   ],
   "source": [
    "isimler=[\"ahmet\",\"emel\",\"burak\",\"kemal\",\"ceren\",\"emel\"]\n",
    "print(isimler)\n",
    "isimler.append(\"naz\")\n",
    "print(isimler)\n",
    "isimler.insert(3,\"abdullah\")\n",
    "print(isimler)\n",
    "isimler2=isimler.copy()\n",
    "print(isimler2)\n",
    "print(\"emel isiminin sayısı:\", isimler.count(\"emel\"))\n",
    "isimler.append(\"tolga\")\n",
    "isimler.insert(4,\"umut\")\n",
    "print(isimler)"
   ]
  },
  {
   "cell_type": "code",
   "execution_count": 95,
   "id": "f4958ec4",
   "metadata": {},
   "outputs": [
    {
     "name": "stdout",
     "output_type": "stream",
     "text": [
      "['ahmet', 'emel', 'burak', 'kemal', 'ceren', 'emel']\n",
      "['emel', 'ceren', 'kemal', 'burak', 'emel', 'ahmet']\n",
      "['ahmet', 'burak', 'ceren', 'emel', 'emel', 'kemal']\n",
      "['burak', 'ceren', 'emel', 'emel', 'kemal']\n"
     ]
    }
   ],
   "source": [
    "isimler=[\"ahmet\",\"emel\",\"burak\",\"kemal\",\"ceren\",\"emel\"]\n",
    "print(isimler)\n",
    "isimler.reverse()\n",
    "print(isimler)\n",
    "isimler.sort()\n",
    "print(isimler)\n",
    "del isimler[0]\n",
    "print(isimler)"
   ]
  },
  {
   "cell_type": "code",
   "execution_count": 96,
   "id": "1a99a54e",
   "metadata": {},
   "outputs": [
    {
     "name": "stdout",
     "output_type": "stream",
     "text": [
      "[[1, 2, 3], ['a', 'b', 'c'], [40, 50, 60]]\n"
     ]
    }
   ],
   "source": [
    "birinci=[1,2,3]\n",
    "ikinci=[\"a\",\"b\",\"c\"]\n",
    "ucuncu=[40,50,60]\n",
    "son=[birinci,ikinci,ucuncu]\n",
    "print(son)"
   ]
  },
  {
   "cell_type": "code",
   "execution_count": 97,
   "id": "8790a5a4",
   "metadata": {},
   "outputs": [
    {
     "name": "stdout",
     "output_type": "stream",
     "text": [
      "[1, 3, 5, 7, 9, 11, 13]\n",
      "[1, 3, 5, 7, 9, 11, 13]\n",
      "[13, 11, 9, 7, 5, 3, 1]\n"
     ]
    }
   ],
   "source": [
    "liste=list(range(1,15,2))\n",
    "print(liste)\n",
    "liste.sort()\n",
    "print(liste)\n",
    "liste.reverse()\n",
    "print(liste)"
   ]
  },
  {
   "cell_type": "code",
   "execution_count": 98,
   "id": "1c538fe9",
   "metadata": {},
   "outputs": [
    {
     "name": "stdout",
     "output_type": "stream",
     "text": [
      "bilgilerinizi araya virgül koyarak yazınız: tolga,mahramanlıoğlu\n",
      "['tolga', 'mahramanlıoğlu']\n"
     ]
    }
   ],
   "source": [
    "bilgi=input(\"bilgilerinizi araya virgül koyarak yazınız: \")\n",
    "liste=bilgi.split(\",\")\n",
    "print(liste)\n"
   ]
  },
  {
   "cell_type": "code",
   "execution_count": 99,
   "id": "cfd2490f",
   "metadata": {},
   "outputs": [
    {
     "name": "stdout",
     "output_type": "stream",
     "text": [
      "[1, 2, 3, 1, 2, 3, 1, 2, 3]\n",
      "1\n",
      "2\n",
      "3\n"
     ]
    }
   ],
   "source": [
    "liste=[1,2,3]\n",
    "yeni=liste*3\n",
    "print(yeni)\n",
    "a,b,c=liste\n",
    "print(a)\n",
    "print(b)\n",
    "print(c)"
   ]
  },
  {
   "cell_type": "code",
   "execution_count": 108,
   "id": "e0438920",
   "metadata": {},
   "outputs": [
    {
     "name": "stdout",
     "output_type": "stream",
     "text": [
      "1\n",
      "4\n",
      "9\n",
      "16\n",
      "25\n",
      "36\n",
      "49\n",
      "64\n",
      "81\n",
      "100\n",
      "121\n",
      "144\n",
      "169\n",
      "196\n",
      "225\n",
      "256\n",
      "289\n",
      "324\n",
      "361\n",
      "19\n",
      "130.0\n"
     ]
    }
   ],
   "source": [
    "liste=[]\n",
    "toplam=0\n",
    "for i in range(1,20):\n",
    "    kare=i**2\n",
    "    print(kare)\n",
    "    toplam+=kare\n",
    "    liste.append(kare)\n",
    "print(len(liste))\n",
    "toplam/=(len(liste))\n",
    "print(toplam)"
   ]
  },
  {
   "cell_type": "code",
   "execution_count": 115,
   "id": "d25ce621",
   "metadata": {},
   "outputs": [
    {
     "name": "stdout",
     "output_type": "stream",
     "text": [
      "[25, 225]\n"
     ]
    }
   ],
   "source": [
    "kareler=[i**2 for i in range(20) if i%2==1 if i%5==0]\n",
    "print(kareler)"
   ]
  },
  {
   "cell_type": "code",
   "execution_count": 119,
   "id": "29841176",
   "metadata": {},
   "outputs": [
    {
     "name": "stdout",
     "output_type": "stream",
     "text": [
      "kırmızı araba\n",
      "kırmızı bisiklet\n",
      "kırmızı ucak\n",
      "sarı araba\n",
      "sarı bisiklet\n",
      "sarı ucak\n",
      "mavi araba\n",
      "mavi bisiklet\n",
      "mavi ucak\n",
      "['kırmızı araba', 'kırmızı bisiklet', 'kırmızı ucak', 'sarı araba', 'sarı bisiklet', 'sarı ucak', 'mavi araba', 'mavi bisiklet', 'mavi ucak']\n"
     ]
    }
   ],
   "source": [
    "renkler=[\"kırmızı\",\"sarı\",\"mavi\"]\n",
    "liste=[]\n",
    "araclar=[\"araba\",\"bisiklet\",\"ucak\"]\n",
    "for i in renkler:\n",
    "    for a in araclar:\n",
    "        liste.append(i+\" \"+a)\n",
    "        print(i,a)\n",
    "print(liste)"
   ]
  },
  {
   "cell_type": "code",
   "execution_count": 120,
   "id": "1dd5ce2f",
   "metadata": {},
   "outputs": [
    {
     "name": "stdout",
     "output_type": "stream",
     "text": [
      "['kırmızı araba', 'kırmızı bisiklet', 'kırmızı ucak', 'sarı araba', 'sarı bisiklet', 'sarı ucak', 'mavi araba', 'mavi bisiklet', 'mavi ucak']\n"
     ]
    }
   ],
   "source": [
    "renkler=[\"kırmızı\",\"sarı\",\"mavi\"]\n",
    "liste=[]\n",
    "araclar=[\"araba\",\"bisiklet\",\"ucak\"]\n",
    "liste=[i+\" \"+j for i in renkler for j in araclar]\n",
    "print(liste)"
   ]
  },
  {
   "cell_type": "code",
   "execution_count": 121,
   "id": "fee2a7f0",
   "metadata": {},
   "outputs": [
    {
     "name": "stdout",
     "output_type": "stream",
     "text": [
      "tektir\n"
     ]
    }
   ],
   "source": [
    "def sayiciftmi(sayi):\n",
    "    if sayi%2==0:\n",
    "        print(\"çifttir\")\n",
    "    else:\n",
    "        print(\"tektir\")\n",
    "\n",
    "sayiciftmi(63)\n"
   ]
  },
  {
   "cell_type": "code",
   "execution_count": 124,
   "id": "33781a59",
   "metadata": {},
   "outputs": [
    {
     "name": "stdout",
     "output_type": "stream",
     "text": [
      "None\n"
     ]
    }
   ],
   "source": [
    "def passOrnek():\n",
    "    pass\n",
    "\n",
    "\n",
    "passOrnek()\n",
    "print(passOrnek())"
   ]
  },
  {
   "cell_type": "code",
   "execution_count": 125,
   "id": "bb98bd8b",
   "metadata": {},
   "outputs": [
    {
     "ename": "TypeError",
     "evalue": "range() takes no keyword arguments",
     "output_type": "error",
     "traceback": [
      "\u001b[1;31m---------------------------------------------------------------------------\u001b[0m",
      "\u001b[1;31mTypeError\u001b[0m                                 Traceback (most recent call last)",
      "Cell \u001b[1;32mIn[125], line 1\u001b[0m\n\u001b[1;32m----> 1\u001b[0m \u001b[38;5;28mprint\u001b[39m(\u001b[38;5;28mrange\u001b[39m(step\u001b[38;5;241m=\u001b[39m\u001b[38;5;241m3\u001b[39m,start\u001b[38;5;241m=\u001b[39m\u001b[38;5;241m15\u001b[39m,stop\u001b[38;5;241m=\u001b[39m\u001b[38;5;241m55\u001b[39m))\n",
      "\u001b[1;31mTypeError\u001b[0m: range() takes no keyword arguments"
     ]
    }
   ],
   "source": [
    "print(range(step=3,start=15,stop=55))"
   ]
  },
  {
   "cell_type": "code",
   "execution_count": 128,
   "id": "b23c4d4f",
   "metadata": {},
   "outputs": [
    {
     "name": "stdout",
     "output_type": "stream",
     "text": [
      "şuan ana fonksiyon gövdesindesiniz.\n",
      "şuan yavru fonksiyon gödesindesiniz.\n"
     ]
    }
   ],
   "source": [
    "def fonkana():\n",
    "    print(\"şuan ana fonksiyon gövdesindesiniz.\")\n",
    "    def fonkyavru():\n",
    "        print(\"şuan yavru fonksiyon gödesindesiniz.\")\n",
    "    fonkyavru()\n",
    "    \n",
    "fonkana()"
   ]
  },
  {
   "cell_type": "code",
   "execution_count": 129,
   "id": "cc8a4dd4",
   "metadata": {},
   "outputs": [
    {
     "name": "stdout",
     "output_type": "stream",
     "text": [
      "10\n"
     ]
    }
   ],
   "source": [
    "topla= lambda sayi1,sayi2: sayi1+sayi2\n",
    "print(topla(7,3))"
   ]
  },
  {
   "cell_type": "code",
   "execution_count": 135,
   "id": "e7e1b0a3",
   "metadata": {},
   "outputs": [
    {
     "name": "stdout",
     "output_type": "stream",
     "text": [
      "30\n",
      "0\n"
     ]
    }
   ],
   "source": [
    "toplam=0\n",
    "\n",
    "def topla(arg1,arg2):\n",
    "    toplam= arg1 + arg2\n",
    "    print(toplam)\n",
    "    return toplam\n",
    "\n",
    "topla(10,20)\n",
    "print(toplam)\n"
   ]
  },
  {
   "cell_type": "code",
   "execution_count": 139,
   "id": "309aab48",
   "metadata": {},
   "outputs": [
    {
     "name": "stdout",
     "output_type": "stream",
     "text": [
      "9 ddja 10\n"
     ]
    }
   ],
   "source": [
    "def hesap(cumle):\n",
    "    buyuk=0\n",
    "    kucuk=0\n",
    "    for i in cumle:\n",
    "        if i.isupper():\n",
    "            buyuk+=1\n",
    "        elif i.islower:\n",
    "            kucuk+=1\n",
    "        else:\n",
    "            pass\n",
    "    print(buyuk,\"ddja\",kucuk)\n",
    "\n",
    "cumle=\"tolgaMAhraMAnlIOĞLU\"\n",
    "hesap(cumle)"
   ]
  },
  {
   "cell_type": "code",
   "execution_count": 140,
   "id": "ad140900",
   "metadata": {},
   "outputs": [],
   "source": [
    "def topla(say1,say2):\n",
    "    return say1+say2\n",
    "\n",
    "def cıkar(say1,say2):\n",
    "    return say1-say2\n",
    "\n",
    "def carp(say1,say2):\n",
    "    return say1*say2\n",
    "\n",
    "def bolme(say1,say2):\n",
    "    return say1/say2"
   ]
  },
  {
   "cell_type": "code",
   "execution_count": 142,
   "id": "bd1af596",
   "metadata": {},
   "outputs": [
    {
     "name": "stdout",
     "output_type": "stream",
     "text": [
      "en buyuk:  99 en kucuk -15\n"
     ]
    }
   ],
   "source": [
    "def bulma(dizi):\n",
    "    dizi.sort()\n",
    "    print(\"en buyuk: \",dizi[len(dizi)-1],\"en kucuk\",dizi[0])\n",
    "    \n",
    "dizi=[1,2,3,1,5,99,34,-15]\n",
    "bulma(dizi)"
   ]
  },
  {
   "cell_type": "code",
   "execution_count": 5,
   "id": "e00987ff",
   "metadata": {},
   "outputs": [
    {
     "name": "stdout",
     "output_type": "stream",
     "text": [
      "1 sayısı  2 adet var\n",
      "2 sayısı  2 adet var\n",
      "3 sayısı  2 adet var\n",
      "1 sayısı  2 adet var\n",
      "5 sayısı  3 adet var\n",
      "5 sayısı  3 adet var\n",
      "7 sayısı  3 adet var\n",
      "8 sayısı  1 adet var\n",
      "5 sayısı  3 adet var\n",
      "7 sayısı  3 adet var\n",
      "9 sayısı  1 adet var\n",
      "7 sayısı  3 adet var\n",
      "2 sayısı  2 adet var\n",
      "3 sayısı  2 adet var\n",
      "4 sayısı  1 adet var\n"
     ]
    }
   ],
   "source": [
    "#tam sayı  dizideki eleman sayılarını bulan fonksiyon.\n",
    "def bulma(dizi):\n",
    "    for i in dizi:\n",
    "        print(i,\"sayısı \" ,dizi.count(i),\"adet var\")\n",
    "        \n",
    "dizi=[1,2,3,1,5,5,7,8,5,7,9,7,2,3,4]\n",
    "bulma(dizi)"
   ]
  },
  {
   "cell_type": "code",
   "execution_count": null,
   "id": "1ca6a2b2",
   "metadata": {},
   "outputs": [],
   "source": []
  }
 ],
 "metadata": {
  "kernelspec": {
   "display_name": "Python 3 (ipykernel)",
   "language": "python",
   "name": "python3"
  },
  "language_info": {
   "codemirror_mode": {
    "name": "ipython",
    "version": 3
   },
   "file_extension": ".py",
   "mimetype": "text/x-python",
   "name": "python",
   "nbconvert_exporter": "python",
   "pygments_lexer": "ipython3",
   "version": "3.11.5"
  }
 },
 "nbformat": 4,
 "nbformat_minor": 5
}
