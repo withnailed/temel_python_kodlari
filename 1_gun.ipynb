{
 "cells": [
  {
   "cell_type": "code",
   "execution_count": 2,
   "id": "18478593",
   "metadata": {},
   "outputs": [
    {
     "name": "stdout",
     "output_type": "stream",
     "text": [
      "11\n"
     ]
    }
   ],
   "source": [
    "#bir yorum satırıdır.\n",
    "#tek satırlık yorum satırları için # kullanılır.\n",
    "\n",
    "a=5\n",
    "b=6\n",
    "c=a+b\n",
    "print(c)"
   ]
  },
  {
   "cell_type": "code",
   "execution_count": 4,
   "id": "ac18be24",
   "metadata": {},
   "outputs": [
    {
     "name": "stdout",
     "output_type": "stream",
     "text": [
      "merhaba\n"
     ]
    }
   ],
   "source": [
    "#bir yorum satırıdır.\n",
    "#tek satırlık yorum satırları için # kullanılı\n",
    "\n",
    "\"\"\"\n",
    "a=5\n",
    "b=6\n",
    "c=a+b\n",
    "print(c)\n",
    "\"\"\"\n",
    "print(\"merhaba\")"
   ]
  },
  {
   "cell_type": "code",
   "execution_count": 7,
   "id": "f8e2a35d",
   "metadata": {},
   "outputs": [
    {
     "name": "stdout",
     "output_type": "stream",
     "text": [
      "2\n",
      "4\n",
      "6\n",
      "8\n",
      "10\n"
     ]
    }
   ],
   "source": [
    "#girinti mekanizması\n",
    "liste=[1,2,3,4,5]\n",
    "for i in range(5):\n",
    "    liste[i]=liste[i]*2\n",
    "    print(liste[i])"
   ]
  },
  {
   "cell_type": "code",
   "execution_count": 8,
   "id": "8816e2d5",
   "metadata": {},
   "outputs": [
    {
     "name": "stdout",
     "output_type": "stream",
     "text": [
      "\n"
     ]
    },
    {
     "data": {
      "text/plain": [
       "['__bool__',\n",
       " '__class__',\n",
       " '__delattr__',\n",
       " '__dir__',\n",
       " '__doc__',\n",
       " '__eq__',\n",
       " '__format__',\n",
       " '__ge__',\n",
       " '__getattribute__',\n",
       " '__getstate__',\n",
       " '__gt__',\n",
       " '__hash__',\n",
       " '__init__',\n",
       " '__init_subclass__',\n",
       " '__le__',\n",
       " '__lt__',\n",
       " '__ne__',\n",
       " '__new__',\n",
       " '__reduce__',\n",
       " '__reduce_ex__',\n",
       " '__repr__',\n",
       " '__setattr__',\n",
       " '__sizeof__',\n",
       " '__str__',\n",
       " '__subclasshook__']"
      ]
     },
     "execution_count": 8,
     "metadata": {},
     "output_type": "execute_result"
    }
   ],
   "source": [
    "dir(print())"
   ]
  },
  {
   "cell_type": "code",
   "execution_count": 9,
   "id": "db295357",
   "metadata": {},
   "outputs": [
    {
     "name": "stdout",
     "output_type": "stream",
     "text": [
      "Help on class str in module builtins:\n",
      "\n",
      "class str(object)\n",
      " |  str(object='') -> str\n",
      " |  str(bytes_or_buffer[, encoding[, errors]]) -> str\n",
      " |  \n",
      " |  Create a new string object from the given object. If encoding or\n",
      " |  errors is specified, then the object must expose a data buffer\n",
      " |  that will be decoded using the given encoding and error handler.\n",
      " |  Otherwise, returns the result of object.__str__() (if defined)\n",
      " |  or repr(object).\n",
      " |  encoding defaults to sys.getdefaultencoding().\n",
      " |  errors defaults to 'strict'.\n",
      " |  \n",
      " |  Methods defined here:\n",
      " |  \n",
      " |  __add__(self, value, /)\n",
      " |      Return self+value.\n",
      " |  \n",
      " |  __contains__(self, key, /)\n",
      " |      Return key in self.\n",
      " |  \n",
      " |  __eq__(self, value, /)\n",
      " |      Return self==value.\n",
      " |  \n",
      " |  __format__(self, format_spec, /)\n",
      " |      Return a formatted version of the string as described by format_spec.\n",
      " |  \n",
      " |  __ge__(self, value, /)\n",
      " |      Return self>=value.\n",
      " |  \n",
      " |  __getattribute__(self, name, /)\n",
      " |      Return getattr(self, name).\n",
      " |  \n",
      " |  __getitem__(self, key, /)\n",
      " |      Return self[key].\n",
      " |  \n",
      " |  __getnewargs__(...)\n",
      " |  \n",
      " |  __gt__(self, value, /)\n",
      " |      Return self>value.\n",
      " |  \n",
      " |  __hash__(self, /)\n",
      " |      Return hash(self).\n",
      " |  \n",
      " |  __iter__(self, /)\n",
      " |      Implement iter(self).\n",
      " |  \n",
      " |  __le__(self, value, /)\n",
      " |      Return self<=value.\n",
      " |  \n",
      " |  __len__(self, /)\n",
      " |      Return len(self).\n",
      " |  \n",
      " |  __lt__(self, value, /)\n",
      " |      Return self<value.\n",
      " |  \n",
      " |  __mod__(self, value, /)\n",
      " |      Return self%value.\n",
      " |  \n",
      " |  __mul__(self, value, /)\n",
      " |      Return self*value.\n",
      " |  \n",
      " |  __ne__(self, value, /)\n",
      " |      Return self!=value.\n",
      " |  \n",
      " |  __repr__(self, /)\n",
      " |      Return repr(self).\n",
      " |  \n",
      " |  __rmod__(self, value, /)\n",
      " |      Return value%self.\n",
      " |  \n",
      " |  __rmul__(self, value, /)\n",
      " |      Return value*self.\n",
      " |  \n",
      " |  __sizeof__(self, /)\n",
      " |      Return the size of the string in memory, in bytes.\n",
      " |  \n",
      " |  __str__(self, /)\n",
      " |      Return str(self).\n",
      " |  \n",
      " |  capitalize(self, /)\n",
      " |      Return a capitalized version of the string.\n",
      " |      \n",
      " |      More specifically, make the first character have upper case and the rest lower\n",
      " |      case.\n",
      " |  \n",
      " |  casefold(self, /)\n",
      " |      Return a version of the string suitable for caseless comparisons.\n",
      " |  \n",
      " |  center(self, width, fillchar=' ', /)\n",
      " |      Return a centered string of length width.\n",
      " |      \n",
      " |      Padding is done using the specified fill character (default is a space).\n",
      " |  \n",
      " |  count(...)\n",
      " |      S.count(sub[, start[, end]]) -> int\n",
      " |      \n",
      " |      Return the number of non-overlapping occurrences of substring sub in\n",
      " |      string S[start:end].  Optional arguments start and end are\n",
      " |      interpreted as in slice notation.\n",
      " |  \n",
      " |  encode(self, /, encoding='utf-8', errors='strict')\n",
      " |      Encode the string using the codec registered for encoding.\n",
      " |      \n",
      " |      encoding\n",
      " |        The encoding in which to encode the string.\n",
      " |      errors\n",
      " |        The error handling scheme to use for encoding errors.\n",
      " |        The default is 'strict' meaning that encoding errors raise a\n",
      " |        UnicodeEncodeError.  Other possible values are 'ignore', 'replace' and\n",
      " |        'xmlcharrefreplace' as well as any other name registered with\n",
      " |        codecs.register_error that can handle UnicodeEncodeErrors.\n",
      " |  \n",
      " |  endswith(...)\n",
      " |      S.endswith(suffix[, start[, end]]) -> bool\n",
      " |      \n",
      " |      Return True if S ends with the specified suffix, False otherwise.\n",
      " |      With optional start, test S beginning at that position.\n",
      " |      With optional end, stop comparing S at that position.\n",
      " |      suffix can also be a tuple of strings to try.\n",
      " |  \n",
      " |  expandtabs(self, /, tabsize=8)\n",
      " |      Return a copy where all tab characters are expanded using spaces.\n",
      " |      \n",
      " |      If tabsize is not given, a tab size of 8 characters is assumed.\n",
      " |  \n",
      " |  find(...)\n",
      " |      S.find(sub[, start[, end]]) -> int\n",
      " |      \n",
      " |      Return the lowest index in S where substring sub is found,\n",
      " |      such that sub is contained within S[start:end].  Optional\n",
      " |      arguments start and end are interpreted as in slice notation.\n",
      " |      \n",
      " |      Return -1 on failure.\n",
      " |  \n",
      " |  format(...)\n",
      " |      S.format(*args, **kwargs) -> str\n",
      " |      \n",
      " |      Return a formatted version of S, using substitutions from args and kwargs.\n",
      " |      The substitutions are identified by braces ('{' and '}').\n",
      " |  \n",
      " |  format_map(...)\n",
      " |      S.format_map(mapping) -> str\n",
      " |      \n",
      " |      Return a formatted version of S, using substitutions from mapping.\n",
      " |      The substitutions are identified by braces ('{' and '}').\n",
      " |  \n",
      " |  index(...)\n",
      " |      S.index(sub[, start[, end]]) -> int\n",
      " |      \n",
      " |      Return the lowest index in S where substring sub is found,\n",
      " |      such that sub is contained within S[start:end].  Optional\n",
      " |      arguments start and end are interpreted as in slice notation.\n",
      " |      \n",
      " |      Raises ValueError when the substring is not found.\n",
      " |  \n",
      " |  isalnum(self, /)\n",
      " |      Return True if the string is an alpha-numeric string, False otherwise.\n",
      " |      \n",
      " |      A string is alpha-numeric if all characters in the string are alpha-numeric and\n",
      " |      there is at least one character in the string.\n",
      " |  \n",
      " |  isalpha(self, /)\n",
      " |      Return True if the string is an alphabetic string, False otherwise.\n",
      " |      \n",
      " |      A string is alphabetic if all characters in the string are alphabetic and there\n",
      " |      is at least one character in the string.\n",
      " |  \n",
      " |  isascii(self, /)\n",
      " |      Return True if all characters in the string are ASCII, False otherwise.\n",
      " |      \n",
      " |      ASCII characters have code points in the range U+0000-U+007F.\n",
      " |      Empty string is ASCII too.\n",
      " |  \n",
      " |  isdecimal(self, /)\n",
      " |      Return True if the string is a decimal string, False otherwise.\n",
      " |      \n",
      " |      A string is a decimal string if all characters in the string are decimal and\n",
      " |      there is at least one character in the string.\n",
      " |  \n",
      " |  isdigit(self, /)\n",
      " |      Return True if the string is a digit string, False otherwise.\n",
      " |      \n",
      " |      A string is a digit string if all characters in the string are digits and there\n",
      " |      is at least one character in the string.\n",
      " |  \n",
      " |  isidentifier(self, /)\n",
      " |      Return True if the string is a valid Python identifier, False otherwise.\n",
      " |      \n",
      " |      Call keyword.iskeyword(s) to test whether string s is a reserved identifier,\n",
      " |      such as \"def\" or \"class\".\n",
      " |  \n",
      " |  islower(self, /)\n",
      " |      Return True if the string is a lowercase string, False otherwise.\n",
      " |      \n",
      " |      A string is lowercase if all cased characters in the string are lowercase and\n",
      " |      there is at least one cased character in the string.\n",
      " |  \n",
      " |  isnumeric(self, /)\n",
      " |      Return True if the string is a numeric string, False otherwise.\n",
      " |      \n",
      " |      A string is numeric if all characters in the string are numeric and there is at\n",
      " |      least one character in the string.\n",
      " |  \n",
      " |  isprintable(self, /)\n",
      " |      Return True if the string is printable, False otherwise.\n",
      " |      \n",
      " |      A string is printable if all of its characters are considered printable in\n",
      " |      repr() or if it is empty.\n",
      " |  \n",
      " |  isspace(self, /)\n",
      " |      Return True if the string is a whitespace string, False otherwise.\n",
      " |      \n",
      " |      A string is whitespace if all characters in the string are whitespace and there\n",
      " |      is at least one character in the string.\n",
      " |  \n",
      " |  istitle(self, /)\n",
      " |      Return True if the string is a title-cased string, False otherwise.\n",
      " |      \n",
      " |      In a title-cased string, upper- and title-case characters may only\n",
      " |      follow uncased characters and lowercase characters only cased ones.\n",
      " |  \n",
      " |  isupper(self, /)\n",
      " |      Return True if the string is an uppercase string, False otherwise.\n",
      " |      \n",
      " |      A string is uppercase if all cased characters in the string are uppercase and\n",
      " |      there is at least one cased character in the string.\n",
      " |  \n",
      " |  join(self, iterable, /)\n",
      " |      Concatenate any number of strings.\n",
      " |      \n",
      " |      The string whose method is called is inserted in between each given string.\n",
      " |      The result is returned as a new string.\n",
      " |      \n",
      " |      Example: '.'.join(['ab', 'pq', 'rs']) -> 'ab.pq.rs'\n",
      " |  \n",
      " |  ljust(self, width, fillchar=' ', /)\n",
      " |      Return a left-justified string of length width.\n",
      " |      \n",
      " |      Padding is done using the specified fill character (default is a space).\n",
      " |  \n",
      " |  lower(self, /)\n",
      " |      Return a copy of the string converted to lowercase.\n",
      " |  \n",
      " |  lstrip(self, chars=None, /)\n",
      " |      Return a copy of the string with leading whitespace removed.\n",
      " |      \n",
      " |      If chars is given and not None, remove characters in chars instead.\n",
      " |  \n",
      " |  partition(self, sep, /)\n",
      " |      Partition the string into three parts using the given separator.\n",
      " |      \n",
      " |      This will search for the separator in the string.  If the separator is found,\n",
      " |      returns a 3-tuple containing the part before the separator, the separator\n",
      " |      itself, and the part after it.\n",
      " |      \n",
      " |      If the separator is not found, returns a 3-tuple containing the original string\n",
      " |      and two empty strings.\n",
      " |  \n",
      " |  removeprefix(self, prefix, /)\n",
      " |      Return a str with the given prefix string removed if present.\n",
      " |      \n",
      " |      If the string starts with the prefix string, return string[len(prefix):].\n",
      " |      Otherwise, return a copy of the original string.\n",
      " |  \n",
      " |  removesuffix(self, suffix, /)\n",
      " |      Return a str with the given suffix string removed if present.\n",
      " |      \n",
      " |      If the string ends with the suffix string and that suffix is not empty,\n",
      " |      return string[:-len(suffix)]. Otherwise, return a copy of the original\n",
      " |      string.\n",
      " |  \n",
      " |  replace(self, old, new, count=-1, /)\n",
      " |      Return a copy with all occurrences of substring old replaced by new.\n",
      " |      \n",
      " |        count\n",
      " |          Maximum number of occurrences to replace.\n",
      " |          -1 (the default value) means replace all occurrences.\n",
      " |      \n",
      " |      If the optional argument count is given, only the first count occurrences are\n",
      " |      replaced.\n",
      " |  \n",
      " |  rfind(...)\n",
      " |      S.rfind(sub[, start[, end]]) -> int\n",
      " |      \n",
      " |      Return the highest index in S where substring sub is found,\n",
      " |      such that sub is contained within S[start:end].  Optional\n",
      " |      arguments start and end are interpreted as in slice notation.\n",
      " |      \n",
      " |      Return -1 on failure.\n",
      " |  \n",
      " |  rindex(...)\n",
      " |      S.rindex(sub[, start[, end]]) -> int\n",
      " |      \n",
      " |      Return the highest index in S where substring sub is found,\n",
      " |      such that sub is contained within S[start:end].  Optional\n",
      " |      arguments start and end are interpreted as in slice notation.\n",
      " |      \n",
      " |      Raises ValueError when the substring is not found.\n",
      " |  \n",
      " |  rjust(self, width, fillchar=' ', /)\n",
      " |      Return a right-justified string of length width.\n",
      " |      \n",
      " |      Padding is done using the specified fill character (default is a space).\n",
      " |  \n",
      " |  rpartition(self, sep, /)\n",
      " |      Partition the string into three parts using the given separator.\n",
      " |      \n",
      " |      This will search for the separator in the string, starting at the end. If\n",
      " |      the separator is found, returns a 3-tuple containing the part before the\n",
      " |      separator, the separator itself, and the part after it.\n",
      " |      \n",
      " |      If the separator is not found, returns a 3-tuple containing two empty strings\n",
      " |      and the original string.\n",
      " |  \n",
      " |  rsplit(self, /, sep=None, maxsplit=-1)\n",
      " |      Return a list of the substrings in the string, using sep as the separator string.\n",
      " |      \n",
      " |        sep\n",
      " |          The separator used to split the string.\n",
      " |      \n",
      " |          When set to None (the default value), will split on any whitespace\n",
      " |          character (including \\\\n \\\\r \\\\t \\\\f and spaces) and will discard\n",
      " |          empty strings from the result.\n",
      " |        maxsplit\n",
      " |          Maximum number of splits (starting from the left).\n",
      " |          -1 (the default value) means no limit.\n",
      " |      \n",
      " |      Splitting starts at the end of the string and works to the front.\n",
      " |  \n",
      " |  rstrip(self, chars=None, /)\n",
      " |      Return a copy of the string with trailing whitespace removed.\n",
      " |      \n",
      " |      If chars is given and not None, remove characters in chars instead.\n",
      " |  \n",
      " |  split(self, /, sep=None, maxsplit=-1)\n",
      " |      Return a list of the substrings in the string, using sep as the separator string.\n",
      " |      \n",
      " |        sep\n",
      " |          The separator used to split the string.\n",
      " |      \n",
      " |          When set to None (the default value), will split on any whitespace\n",
      " |          character (including \\\\n \\\\r \\\\t \\\\f and spaces) and will discard\n",
      " |          empty strings from the result.\n",
      " |        maxsplit\n",
      " |          Maximum number of splits (starting from the left).\n",
      " |          -1 (the default value) means no limit.\n",
      " |      \n",
      " |      Note, str.split() is mainly useful for data that has been intentionally\n",
      " |      delimited.  With natural text that includes punctuation, consider using\n",
      " |      the regular expression module.\n",
      " |  \n",
      " |  splitlines(self, /, keepends=False)\n",
      " |      Return a list of the lines in the string, breaking at line boundaries.\n",
      " |      \n",
      " |      Line breaks are not included in the resulting list unless keepends is given and\n",
      " |      true.\n",
      " |  \n",
      " |  startswith(...)\n",
      " |      S.startswith(prefix[, start[, end]]) -> bool\n",
      " |      \n",
      " |      Return True if S starts with the specified prefix, False otherwise.\n",
      " |      With optional start, test S beginning at that position.\n",
      " |      With optional end, stop comparing S at that position.\n",
      " |      prefix can also be a tuple of strings to try.\n",
      " |  \n",
      " |  strip(self, chars=None, /)\n",
      " |      Return a copy of the string with leading and trailing whitespace removed.\n",
      " |      \n",
      " |      If chars is given and not None, remove characters in chars instead.\n",
      " |  \n",
      " |  swapcase(self, /)\n",
      " |      Convert uppercase characters to lowercase and lowercase characters to uppercase.\n",
      " |  \n",
      " |  title(self, /)\n",
      " |      Return a version of the string where each word is titlecased.\n",
      " |      \n",
      " |      More specifically, words start with uppercased characters and all remaining\n",
      " |      cased characters have lower case.\n",
      " |  \n",
      " |  translate(self, table, /)\n",
      " |      Replace each character in the string using the given translation table.\n",
      " |      \n",
      " |        table\n",
      " |          Translation table, which must be a mapping of Unicode ordinals to\n",
      " |          Unicode ordinals, strings, or None.\n",
      " |      \n",
      " |      The table must implement lookup/indexing via __getitem__, for instance a\n",
      " |      dictionary or list.  If this operation raises LookupError, the character is\n",
      " |      left untouched.  Characters mapped to None are deleted.\n",
      " |  \n",
      " |  upper(self, /)\n",
      " |      Return a copy of the string converted to uppercase.\n",
      " |  \n",
      " |  zfill(self, width, /)\n",
      " |      Pad a numeric string with zeros on the left, to fill a field of the given width.\n",
      " |      \n",
      " |      The string is never truncated.\n",
      " |  \n",
      " |  ----------------------------------------------------------------------\n",
      " |  Static methods defined here:\n",
      " |  \n",
      " |  __new__(*args, **kwargs) from builtins.type\n",
      " |      Create and return a new object.  See help(type) for accurate signature.\n",
      " |  \n",
      " |  maketrans(...)\n",
      " |      Return a translation table usable for str.translate().\n",
      " |      \n",
      " |      If there is only one argument, it must be a dictionary mapping Unicode\n",
      " |      ordinals (integers) or characters to Unicode ordinals, strings or None.\n",
      " |      Character keys will be then converted to ordinals.\n",
      " |      If there are two arguments, they must be strings of equal length, and\n",
      " |      in the resulting dictionary, each character in x will be mapped to the\n",
      " |      character at the same position in y. If there is a third argument, it\n",
      " |      must be a string, whose characters will be mapped to None in the result.\n",
      "\n"
     ]
    }
   ],
   "source": [
    "help(str())"
   ]
  },
  {
   "cell_type": "code",
   "execution_count": 13,
   "id": "eb91c295",
   "metadata": {},
   "outputs": [
    {
     "name": "stdout",
     "output_type": "stream",
     "text": [
      "bu bir mesajdır.\n",
      "35\n"
     ]
    }
   ],
   "source": [
    "a=5\n",
    "b=7\n",
    "c=7*5\n",
    "mesaj=\"bu bir mesajdır.\"\n",
    "print(mesaj)\n",
    "print(c)"
   ]
  },
  {
   "cell_type": "code",
   "execution_count": 14,
   "id": "231f1ecd",
   "metadata": {},
   "outputs": [
    {
     "name": "stdout",
     "output_type": "stream",
     "text": [
      "pi sayısı 3.14\n",
      "alan 12.56\n",
      "yarıöapı 2 olan dairenin alanı 12.56 cm2 dir\n",
      "karmasik sayi  (4+8j)\n"
     ]
    }
   ],
   "source": [
    "pisayisi=3.14\n",
    "print(\"pi sayısı\", pisayisi)\n",
    "rcm=2\n",
    "alan=3.14*2**2\n",
    "print(\"alan\",alan)\n",
    "print(\"yarıöapı 2 olan dairenin alanı\",alan,\"cm2 dir\")\n",
    "karmasiksayi=4+5j\n",
    "print(\"karmasik sayi \", karmasiksayi+3j)"
   ]
  },
  {
   "cell_type": "code",
   "execution_count": 15,
   "id": "390026ea",
   "metadata": {},
   "outputs": [
    {
     "name": "stdout",
     "output_type": "stream",
     "text": [
      "merhaba merhaba \n",
      "merhaba mars\n",
      "metin1 uzunluğu 8\n"
     ]
    }
   ],
   "source": [
    "metin1=\"merhaba \" \n",
    "metin2=\"mars\"\n",
    "print(metin1*2)\n",
    "print(metin1+metin2)\n",
    "print(\"metin1 uzunluğu\",len(metin1))"
   ]
  },
  {
   "cell_type": "code",
   "execution_count": 17,
   "id": "fbc90bac",
   "metadata": {},
   "outputs": [
    {
     "name": "stdout",
     "output_type": "stream",
     "text": [
      "M\n",
      "aba\n",
      "Mars\n",
      "r\n",
      "Merhaba\n",
      "Mars\n",
      "Mraa\n",
      "sraM abahreM\n"
     ]
    }
   ],
   "source": [
    "metin=\"Merhaba Mars\"\n",
    "print(metin[0])\n",
    "print(metin[4:7])\n",
    "print(metin[8::])\n",
    "print(metin[-2])\n",
    "print(metin[:7])\n",
    "print(metin[8:])\n",
    "print(metin[0:8:2])\n",
    "print(metin[::-1])"
   ]
  },
  {
   "cell_type": "code",
   "execution_count": 19,
   "id": "d9b02491",
   "metadata": {},
   "outputs": [
    {
     "name": "stdout",
     "output_type": "stream",
     "text": [
      "<class 'str'>\n",
      "<class 'int'>\n",
      "<class 'float'>\n"
     ]
    }
   ],
   "source": [
    "metin=\"Merhaba Tolga\"\n",
    "print(type(metin))\n",
    "a=5\n",
    "print(type(a))\n",
    "b=5.1\n",
    "print(type(b))"
   ]
  },
  {
   "cell_type": "code",
   "execution_count": 20,
   "id": "2cbd09fe",
   "metadata": {},
   "outputs": [
    {
     "name": "stdout",
     "output_type": "stream",
     "text": [
      "<class 'int'>\n",
      "<class 'float'>\n"
     ]
    },
    {
     "ename": "ValueError",
     "evalue": "invalid literal for int() with base 10: 'merhaba'",
     "output_type": "error",
     "traceback": [
      "\u001b[1;31m---------------------------------------------------------------------------\u001b[0m",
      "\u001b[1;31mValueError\u001b[0m                                Traceback (most recent call last)",
      "Cell \u001b[1;32mIn[20], line 6\u001b[0m\n\u001b[0;32m      4\u001b[0m \u001b[38;5;28mprint\u001b[39m(\u001b[38;5;28mtype\u001b[39m(b))\n\u001b[0;32m      5\u001b[0m metin\u001b[38;5;241m=\u001b[39m\u001b[38;5;124m\"\u001b[39m\u001b[38;5;124mmerhaba\u001b[39m\u001b[38;5;124m\"\u001b[39m\n\u001b[1;32m----> 6\u001b[0m c\u001b[38;5;241m=\u001b[39m\u001b[38;5;28mint\u001b[39m(metin)\n\u001b[0;32m      7\u001b[0m \u001b[38;5;28mprint\u001b[39m(\u001b[38;5;28mtype\u001b[39m(c))\n",
      "\u001b[1;31mValueError\u001b[0m: invalid literal for int() with base 10: 'merhaba'"
     ]
    }
   ],
   "source": [
    "a=5\n",
    "print(type(a))\n",
    "b=float(a)\n",
    "print(type(b))\n",
    "metin=\"merhaba\"\n",
    "c=int(metin)\n",
    "print(type(c))"
   ]
  },
  {
   "cell_type": "code",
   "execution_count": 25,
   "id": "d7334264",
   "metadata": {},
   "outputs": [
    {
     "name": "stdout",
     "output_type": "stream",
     "text": [
      "13\n",
      "44\n",
      "45\n",
      "2.0\n",
      "3.0\n",
      "64\n",
      "40.0\n",
      "2\n"
     ]
    }
   ],
   "source": [
    "print(6+7)\n",
    "print(52-8)\n",
    "print(5*9)\n",
    "print(8/4)\n",
    "print(18/3/2)\n",
    "print(8**2)\n",
    "print(121.00//3)\n",
    "#bölüm sonucu ondalıklı sayıyı olmaz.\n",
    "print(5%3)\n"
   ]
  },
  {
   "cell_type": "code",
   "execution_count": 23,
   "id": "21ff2d6a",
   "metadata": {},
   "outputs": [
    {
     "name": "stdout",
     "output_type": "stream",
     "text": [
      "merhabanaber\n"
     ]
    }
   ],
   "source": [
    "print(\"merhaba \"+\"naber\")\n"
   ]
  },
  {
   "cell_type": "code",
   "execution_count": 24,
   "id": "0c0918d8",
   "metadata": {},
   "outputs": [
    {
     "name": "stdout",
     "output_type": "stream",
     "text": [
      "BABABABABABABABABABABABABABABABABABABABA\n"
     ]
    }
   ],
   "source": [
    "print(20*'BA') "
   ]
  },
  {
   "cell_type": "code",
   "execution_count": 26,
   "id": "67c5f62d",
   "metadata": {},
   "outputs": [
    {
     "name": "stdout",
     "output_type": "stream",
     "text": [
      "False\n",
      "True\n",
      "False\n"
     ]
    }
   ],
   "source": [
    "print(9==8)\n",
    "sayi1=8\n",
    "sayi2=8\n",
    "print(sayi1==sayi2)\n",
    "print(sayi1==5)"
   ]
  },
  {
   "cell_type": "code",
   "execution_count": 29,
   "id": "189cb5b7",
   "metadata": {},
   "outputs": [
    {
     "name": "stdout",
     "output_type": "stream",
     "text": [
      "False\n",
      "False\n",
      "True\n"
     ]
    }
   ],
   "source": [
    "print('Umut'=='umut')\n",
    "metin1=\"Umut\"\n",
    "metin2=\"umut\"\n",
    "print(metin1==metin2)\n",
    "print(metin1==\"Umut\")"
   ]
  },
  {
   "cell_type": "code",
   "execution_count": 31,
   "id": "87e28130",
   "metadata": {},
   "outputs": [
    {
     "name": "stdout",
     "output_type": "stream",
     "text": [
      "True\n",
      "False\n"
     ]
    },
    {
     "name": "stderr",
     "output_type": "stream",
     "text": [
      "<>:5: SyntaxWarning: \"is\" with a literal. Did you mean \"==\"?\n",
      "<>:6: SyntaxWarning: \"is\" with a literal. Did you mean \"==\"?\n",
      "<>:7: SyntaxWarning: \"is not\" with a literal. Did you mean \"!=\"?\n",
      "<>:5: SyntaxWarning: \"is\" with a literal. Did you mean \"==\"?\n",
      "<>:6: SyntaxWarning: \"is\" with a literal. Did you mean \"==\"?\n",
      "<>:7: SyntaxWarning: \"is not\" with a literal. Did you mean \"!=\"?\n",
      "C:\\Users\\ebru_\\AppData\\Local\\Temp\\ipykernel_10800\\2442281049.py:5: SyntaxWarning: \"is\" with a literal. Did you mean \"==\"?\n",
      "  print(sayi is 4)\n",
      "C:\\Users\\ebru_\\AppData\\Local\\Temp\\ipykernel_10800\\2442281049.py:5: SyntaxWarning: \"is\" with a literal. Did you mean \"==\"?\n",
      "  print(sayi is 4)\n",
      "C:\\Users\\ebru_\\AppData\\Local\\Temp\\ipykernel_10800\\2442281049.py:5: SyntaxWarning: \"is\" with a literal. Did you mean \"==\"?\n",
      "  print(sayi is 4)\n",
      "C:\\Users\\ebru_\\AppData\\Local\\Temp\\ipykernel_10800\\2442281049.py:5: SyntaxWarning: \"is\" with a literal. Did you mean \"==\"?\n",
      "  print(sayi is 4)\n",
      "C:\\Users\\ebru_\\AppData\\Local\\Temp\\ipykernel_10800\\2442281049.py:5: SyntaxWarning: \"is\" with a literal. Did you mean \"==\"?\n",
      "  print(sayi is 4)\n"
     ]
    },
    {
     "ename": "NameError",
     "evalue": "name 'sayi' is not defined",
     "output_type": "error",
     "traceback": [
      "\u001b[1;31m---------------------------------------------------------------------------\u001b[0m",
      "\u001b[1;31mNameError\u001b[0m                                 Traceback (most recent call last)",
      "Cell \u001b[1;32mIn[31], line 5\u001b[0m\n\u001b[0;32m      3\u001b[0m b\u001b[38;5;241m=\u001b[39m\u001b[38;5;241m7\u001b[39m\n\u001b[0;32m      4\u001b[0m \u001b[38;5;28mprint\u001b[39m(a\u001b[38;5;241m>\u001b[39mb)\n\u001b[1;32m----> 5\u001b[0m \u001b[38;5;28mprint\u001b[39m(sayi \u001b[38;5;129;01mis\u001b[39;00m \u001b[38;5;241m4\u001b[39m)\n\u001b[0;32m      6\u001b[0m \u001b[38;5;28mprint\u001b[39m(sayi \u001b[38;5;129;01mis\u001b[39;00m \u001b[38;5;241m6\u001b[39m)\n\u001b[0;32m      7\u001b[0m \u001b[38;5;28mprint\u001b[39m(sayi \u001b[38;5;129;01mis\u001b[39;00m \u001b[38;5;129;01mnot\u001b[39;00m \u001b[38;5;241m6\u001b[39m)\n",
      "\u001b[1;31mNameError\u001b[0m: name 'sayi' is not defined"
     ]
    }
   ],
   "source": [
    "print(3!=5)\n",
    "a=5\n",
    "b=7\n",
    "print(a>b)\n",
    "print(sayi is 4)\n",
    "print(sayi is 6)\n",
    "print(sayi is not 6)"
   ]
  },
  {
   "cell_type": "code",
   "execution_count": 33,
   "id": "2799ac0c",
   "metadata": {},
   "outputs": [
    {
     "name": "stdout",
     "output_type": "stream",
     "text": [
      "True\n",
      "False\n",
      "True\n"
     ]
    }
   ],
   "source": [
    "print('ut' in 'Umut')\n",
    "print('ut' not in 'Umut')\n",
    "print('et' not in 'MAMET')"
   ]
  },
  {
   "cell_type": "code",
   "execution_count": 36,
   "id": "dea1182f",
   "metadata": {},
   "outputs": [
    {
     "name": "stdout",
     "output_type": "stream",
     "text": [
      "35\n",
      "33\n",
      "16.5\n",
      "25.5\n"
     ]
    }
   ],
   "source": [
    "sayi1=5\n",
    "sayi1*=7\n",
    "print(sayi1)\n",
    "sayi1-=2\n",
    "print(sayi1)\n",
    "sayi1/=2\n",
    "print(sayi1)\n",
    "sayi1+=9\n",
    "print(sayi1)"
   ]
  },
  {
   "cell_type": "code",
   "execution_count": 39,
   "id": "98ca30ff",
   "metadata": {},
   "outputs": [
    {
     "name": "stdout",
     "output_type": "stream",
     "text": [
      "30\n",
      "10\n"
     ]
    }
   ],
   "source": [
    "a=(b:=10)+20\n",
    "print(a)\n",
    "print(b)"
   ]
  },
  {
   "cell_type": "code",
   "execution_count": 40,
   "id": "d8675f9f",
   "metadata": {},
   "outputs": [
    {
     "name": "stdout",
     "output_type": "stream",
     "text": [
      "True\n",
      "True\n",
      "False\n"
     ]
    }
   ],
   "source": [
    "sayi1=5\n",
    "print(sayi1<6 or sayi1>10)\n",
    "sayi1=35\n",
    "print(sayi1<6 or sayi1>10)\n",
    "sayi1=8\n",
    "print(sayi1<6 or sayi1>10)\n"
   ]
  },
  {
   "cell_type": "code",
   "execution_count": 41,
   "id": "14ca2cd0",
   "metadata": {},
   "outputs": [
    {
     "name": "stdout",
     "output_type": "stream",
     "text": [
      "False\n",
      "False\n",
      "False\n"
     ]
    }
   ],
   "source": [
    "sayi1=5\n",
    "print(sayi1<6 and sayi1>10)\n",
    "sayi1=35\n",
    "print(sayi1<6 and sayi1>10)\n",
    "sayi1=8\n",
    "print(sayi1<6 and sayi1>10)\n"
   ]
  },
  {
   "cell_type": "code",
   "execution_count": 42,
   "id": "4228e620",
   "metadata": {},
   "outputs": [
    {
     "name": "stdout",
     "output_type": "stream",
     "text": [
      "True\n",
      "False\n"
     ]
    }
   ],
   "source": [
    "sayi1=5\n",
    "print(sayi1<6)\n",
    "print(not(sayi1<6))"
   ]
  },
  {
   "cell_type": "code",
   "execution_count": 43,
   "id": "aec388d7",
   "metadata": {},
   "outputs": [
    {
     "name": "stdout",
     "output_type": "stream",
     "text": [
      "1.umut'un kalemi \n"
     ]
    }
   ],
   "source": [
    "print('1.umut\\'un kalemi ')"
   ]
  },
  {
   "cell_type": "code",
   "execution_count": 44,
   "id": "525dc3fc",
   "metadata": {},
   "outputs": [
    {
     "name": "stdout",
     "output_type": "stream",
     "text": [
      "1.umut'un kalemi \n",
      "1.umut'un kalemi \n",
      "1.umut'un kalemi \n"
     ]
    }
   ],
   "source": [
    "print('1.umut\\'un kalemi ')\n",
    "print(\"1.umut\\'un kalemi \")\n",
    "print(\"\"\"1.umut\\'un kalemi \"\"\")"
   ]
  },
  {
   "cell_type": "code",
   "execution_count": 45,
   "id": "822d2b00",
   "metadata": {},
   "outputs": [
    {
     "name": "stdout",
     "output_type": "stream",
     "text": [
      "1. umutun kalemi \n",
      " umut'un silgisi\n"
     ]
    }
   ],
   "source": [
    "print('1. umutun kalemi \\n umut\\'un silgisi')"
   ]
  },
  {
   "cell_type": "code",
   "execution_count": 46,
   "id": "9cabcdee",
   "metadata": {},
   "outputs": [
    {
     "name": "stdout",
     "output_type": "stream",
     "text": [
      "merhaba python\n",
      "merhaba****python\n"
     ]
    }
   ],
   "source": [
    "print(\"merhaba\",end=\" \")\n",
    "print(\"python\")\n",
    "print(\"merhaba\",end=\"****\")\n",
    "print(\"python\")"
   ]
  },
  {
   "cell_type": "code",
   "execution_count": 47,
   "id": "0b60046d",
   "metadata": {},
   "outputs": [
    {
     "name": "stdout",
     "output_type": "stream",
     "text": [
      "pazartesi salı çarşamba perşembe\n",
      "pazartesi-salı-çarşamba-perşembe\n"
     ]
    }
   ],
   "source": [
    "print(\"pazartesi\",\"salı\",\"çarşamba\",\"perşembe\")\n",
    "print(\"pazartesi\",\"salı\",\"çarşamba\",\"perşembe\",sep=\"-\")\n"
   ]
  },
  {
   "cell_type": "code",
   "execution_count": 48,
   "id": "999fcb67",
   "metadata": {},
   "outputs": [
    {
     "name": "stdout",
     "output_type": "stream",
     "text": [
      "girdiğiniz 5 , 6 ve 9 değerlerinin toplamı= 20 dir.\n"
     ]
    }
   ],
   "source": [
    "a=5\n",
    "b=6\n",
    "c=9\n",
    "print(\"girdiğiniz {} , {} ve {} değerlerinin toplamı= {} dir.\".format(a,b,c,a+b+c))"
   ]
  },
  {
   "cell_type": "code",
   "execution_count": 52,
   "id": "8ab4ab2e",
   "metadata": {},
   "outputs": [
    {
     "name": "stdout",
     "output_type": "stream",
     "text": [
      "girdiğiniz 5 , 6 ve 9 değerlerinin toplamı= 20 dir.\n"
     ]
    }
   ],
   "source": [
    "print(\"girdiğiniz {} , {} ve {} değerlerinin toplamı= {} dir.\".format(a,b,c,a+b+c))"
   ]
  },
  {
   "cell_type": "code",
   "execution_count": 57,
   "id": "e663c2dc",
   "metadata": {},
   "outputs": [
    {
     "name": "stdout",
     "output_type": "stream",
     "text": [
      "sayi gir lan...15\n",
      "girdiğin sayi: 15\n"
     ]
    }
   ],
   "source": [
    "sayi=int(input(\"sayi gir lan...\"))\n",
    "print(\"girdiğin sayi:\",sayi)\n"
   ]
  },
  {
   "cell_type": "code",
   "execution_count": 58,
   "id": "193909e7",
   "metadata": {},
   "outputs": [
    {
     "name": "stdout",
     "output_type": "stream",
     "text": [
      "<class 'int'>\n"
     ]
    }
   ],
   "source": [
    "print(type(sayi))"
   ]
  },
  {
   "cell_type": "code",
   "execution_count": 59,
   "id": "d781c69a",
   "metadata": {},
   "outputs": [
    {
     "name": "stdout",
     "output_type": "stream",
     "text": [
      "mil giriniz:150\n",
      "km dir: 241.40206318296669\n"
     ]
    }
   ],
   "source": [
    "sayi=int(input(\"mil giriniz:\"))\n",
    "km= sayi/0.62137\n",
    "print(\"km dir:\",km)"
   ]
  },
  {
   "cell_type": "code",
   "execution_count": 61,
   "id": "b831051b",
   "metadata": {},
   "outputs": [
    {
     "name": "stdout",
     "output_type": "stream",
     "text": [
      "derece giriniz:55\n",
      "derece:  30.555555555555554\n"
     ]
    }
   ],
   "source": [
    "sayi=int(input(\"derece giriniz:\"))\n",
    "derece= sayi/1.8000\n",
    "print(\"derece: \",derece)"
   ]
  },
  {
   "cell_type": "code",
   "execution_count": 64,
   "id": "0dd2a702",
   "metadata": {},
   "outputs": [
    {
     "name": "stdout",
     "output_type": "stream",
     "text": [
      "vize giriniz:55\n",
      "final giriniz:80\n",
      "proje giriniz:95\n",
      "toplam: 78.5\n",
      "geçtin\n"
     ]
    }
   ],
   "source": [
    "vize=int(input(\"vize giriniz:\"))\n",
    "final=int(input(\"final giriniz:\"))\n",
    "proje=int(input(\"proje giriniz:\"))\n",
    "toplam=vize*0.3+final*0.3+proje*0.40\n",
    "print(\"toplam:\",toplam)\n",
    "if toplam<65:\n",
    "    print(\"kaldın\")\n",
    "else:\n",
    "    print(\"geçtin\")"
   ]
  },
  {
   "cell_type": "code",
   "execution_count": 67,
   "id": "3b134020",
   "metadata": {},
   "outputs": [
    {
     "name": "stdout",
     "output_type": "stream",
     "text": [
      "-5  negatif bir sayıdır.\n"
     ]
    }
   ],
   "source": [
    "sayi= -5\n",
    "if sayi >0 :\n",
    "    print(sayi,\" pozitif bir sayıdır.\")\n",
    "else:\n",
    "    print(sayi,\" negatif bir sayıdır.\")"
   ]
  },
  {
   "cell_type": "code",
   "execution_count": 70,
   "id": "1f049022",
   "metadata": {},
   "outputs": [
    {
     "name": "stdout",
     "output_type": "stream",
     "text": [
      "1\n",
      "2\n",
      "3\n",
      "4\n",
      "5\n"
     ]
    }
   ],
   "source": [
    "satır=[1,2,3,4,5]\n",
    "satır = satır[:-1]\n",
    "for i in satır:\n",
    "    print(i)"
   ]
  },
  {
   "cell_type": "code",
   "execution_count": 72,
   "id": "bc251b5c",
   "metadata": {
    "scrolled": true
   },
   "outputs": [
    {
     "name": "stdout",
     "output_type": "stream",
     "text": [
      "satı giriniz:10\n",
      "çifttir\n"
     ]
    }
   ],
   "source": [
    "sayi=int(input(\"sayı giriniz:\"))\n",
    "sayi= sayi%2\n",
    "if sayi==1:\n",
    "    print(\"tektir\")\n",
    "else:\n",
    "    print(\"çifttir\")"
   ]
  },
  {
   "cell_type": "code",
   "execution_count": 73,
   "id": "7e44aae9",
   "metadata": {},
   "outputs": [
    {
     "name": "stdout",
     "output_type": "stream",
     "text": [
      "sayı sıfırdır\n"
     ]
    }
   ],
   "source": [
    "sayi=0\n",
    "if sayi>0:\n",
    "    print(\"sayı pozitif\")\n",
    "elif sayi==0:\n",
    "    print(\"sayı sıfırdır\")\n",
    "else:\n",
    "    print(\"negatif sayı\")\n",
    "    "
   ]
  },
  {
   "cell_type": "code",
   "execution_count": 75,
   "id": "d3f45dd9",
   "metadata": {},
   "outputs": [
    {
     "name": "stdout",
     "output_type": "stream",
     "text": [
      "10 ile 20 arasında\n"
     ]
    }
   ],
   "source": [
    "sayi=15\n",
    "if sayi>0 and 10>=sayi:\n",
    "    print(\"10 ile 0 arasında\")\n",
    "elif sayi>10 and 20>=sayi:\n",
    "    print(\"10 ile 20 arasında\")\n",
    "elif sayi>20 and 30>=sayi:\n",
    "    print(\"30 ile 20 arasında\")"
   ]
  },
  {
   "cell_type": "code",
   "execution_count": 77,
   "id": "9db7a4d5",
   "metadata": {},
   "outputs": [
    {
     "name": "stdout",
     "output_type": "stream",
     "text": [
      "iyi\n"
     ]
    }
   ],
   "source": [
    "sayi=70\n",
    "\n",
    "if sayi>0 and 44>=sayi:\n",
    "    print(\"kaldı\")\n",
    "elif sayi>44 and 54>=sayi:\n",
    "    print(\"geçer\")\n",
    "elif sayi>54 and 69>=sayi:\n",
    "    print(\"orta\")\n",
    "elif sayi>69 and 84>=sayi:\n",
    "    print(\"iyi\")\n",
    "elif sayi>84 and 100>=sayi:\n",
    "    print(\"pek iyi\")"
   ]
  },
  {
   "cell_type": "code",
   "execution_count": 83,
   "id": "e31153da",
   "metadata": {},
   "outputs": [
    {
     "name": "stdout",
     "output_type": "stream",
     "text": [
      "b giriniz:14\n",
      "a giriniz:3\n",
      "c giriniz:4\n",
      "iki kök vardır\n",
      "-0.3057458232339269\n",
      "-4.36092084343274\n"
     ]
    }
   ],
   "source": [
    "\n",
    "b=int(input(\"b giriniz:\"))\n",
    "a=int(input(\"a giriniz:\"))\n",
    "c=int(input(\"c giriniz:\"))\n",
    "delta=b**2-4*a*c\n",
    "if delta>0:\n",
    "    print(\"iki kök vardır\")\n",
    "    x1=(-b+(math.sqrt(delta)))/(2*a)\n",
    "    x2=(-b-(math.sqrt(delta)))/(2*a)\n",
    "    print(x1)\n",
    "    print(x2)\n",
    "elif delta==0:\n",
    "    print(\"çakışık kök vardır\")\n",
    "    kök=-b/2*a\n",
    "    print(kök)\n",
    "else:\n",
    "    print(\"kök yoktur.\")"
   ]
  },
  {
   "cell_type": "code",
   "execution_count": null,
   "id": "d5e102d2",
   "metadata": {},
   "outputs": [],
   "source": []
  }
 ],
 "metadata": {
  "kernelspec": {
   "display_name": "Python 3 (ipykernel)",
   "language": "python",
   "name": "python3"
  },
  "language_info": {
   "codemirror_mode": {
    "name": "ipython",
    "version": 3
   },
   "file_extension": ".py",
   "mimetype": "text/x-python",
   "name": "python",
   "nbconvert_exporter": "python",
   "pygments_lexer": "ipython3",
   "version": "3.11.5"
  }
 },
 "nbformat": 4,
 "nbformat_minor": 5
}
