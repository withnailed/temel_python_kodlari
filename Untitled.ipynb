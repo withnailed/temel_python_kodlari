{
 "cells": [
  {
   "cell_type": "code",
   "execution_count": 1,
   "id": "c2908fb3",
   "metadata": {},
   "outputs": [
    {
     "name": "stdout",
     "output_type": "stream",
     "text": [
      "benim adım boncuk ve ben 5 yaşındayım.\n"
     ]
    }
   ],
   "source": [
    "class animal:\n",
    "    def __init__(self,name,age):\n",
    "        self.name=name\n",
    "        self.age=age\n",
    "        \n",
    "    def speak(self):\n",
    "        print(\"benim adım\",self.name,\"ve ben\", self.age,\"yaşındayım.\")\n",
    "        \n",
    "class Dog(animal):\n",
    "    def __init__(self,name,age):\n",
    "        self.name=name\n",
    "        self.age=age\n",
    "        self.type=\"dog\"\n",
    "        \n",
    "        \n",
    "tim=Dog(\"boncuk\",5)\n",
    "tim.speak()"
   ]
  },
  {
   "cell_type": "code",
   "execution_count": 3,
   "id": "bd2f1421",
   "metadata": {},
   "outputs": [
    {
     "name": "stdout",
     "output_type": "stream",
     "text": [
      "22\n",
      "23\n"
     ]
    }
   ],
   "source": [
    "class employee():\n",
    "    def __init__(self,name,age):\n",
    "        self.name=name\n",
    "        self.age=age\n",
    "    def disp(self):\n",
    "        print(self.name)\n",
    "        \n",
    "class childemployee1(employee):\n",
    "    def __init__(self,name,age,salary):\n",
    "        self.name=name\n",
    "        self.age=age\n",
    "        self.salary=salary\n",
    "        \n",
    "class childemployee2(childemployee1):\n",
    "    def __init__(self,name,age,salary,surname):\n",
    "        self.name=name\n",
    "        self.age=age\n",
    "        self.salary=salary\n",
    "        self.surname=surname\n",
    "        \n",
    "        \n",
    "emp1=childemployee1(\"ayşe\",22,1000)\n",
    "emp2=childemployee2(\"fatma\",23,2000,\"korkmaz\")\n",
    "print(emp1.age)\n",
    "print(emp2.age)"
   ]
  },
  {
   "cell_type": "code",
   "execution_count": 5,
   "id": "390df5ee",
   "metadata": {},
   "outputs": [
    {
     "name": "stdout",
     "output_type": "stream",
     "text": [
      "23\n",
      "230014575\n",
      "12\n",
      "1245260\n",
      "merhaba ben employee1 sınıfıyım.\n"
     ]
    }
   ],
   "source": [
    "class employee1():\n",
    "    def __init__(self,name,age):\n",
    "        self.name=name\n",
    "        self.age=age\n",
    "        \n",
    "    def selamver(self):\n",
    "        print(\"merhaba ben employee1 sınıfıyım.\")\n",
    "        \n",
    "class employee2():\n",
    "    def __init__(self,name,age,salary,id):\n",
    "        self.name=name\n",
    "        self.age=age\n",
    "        self.salary=salary\n",
    "        self.id=id\n",
    "    def selamver(self):\n",
    "        print(\"merhaba ben employee2 sınıfıyım.\")\n",
    "        \n",
    "class childemployee(employee1,employee2):\n",
    "    def __init__(self,name,age,salary,id):\n",
    "        self.name=name\n",
    "        self.age=age\n",
    "        self.salary=salary\n",
    "        self.id=id\n",
    "    \n",
    "emp1=employee1(\"lena\",23)\n",
    "emp2=employee2(\"asil\",23,2000,230014575)\n",
    "print(emp1.age)\n",
    "print(emp2.id)\n",
    "    \n",
    "emp3=childemployee(\"ahmet\",12,100,1245260)\n",
    "print(emp3.age)\n",
    "print(emp3.id)\n",
    "emp3.selamver()"
   ]
  },
  {
   "cell_type": "code",
   "execution_count": 7,
   "id": "d4e4248d",
   "metadata": {},
   "outputs": [
    {
     "name": "stdout",
     "output_type": "stream",
     "text": [
      "üst sınıf içirisinden çslıştım.\n",
      "alt sınıf içerisnden çalıştım.\n"
     ]
    }
   ],
   "source": [
    "class parent():\n",
    "    def __init__(self):\n",
    "        self.value=\"üst sınıf içirisinden çslıştım.\"\n",
    "        \n",
    "    def show(self):\n",
    "        print(self.value)\n",
    "        \n",
    "class child(parent):\n",
    "    def __init__(self):\n",
    "        self.value=\"alt sınıf içerisnden çalıştım.\"\n",
    "        \n",
    "    def show(self):\n",
    "        print(self.value)\n",
    "        \n",
    "obj1=parent()\n",
    "obj2=child()\n",
    "obj1.show()\n",
    "obj2.show()"
   ]
  },
  {
   "cell_type": "code",
   "execution_count": 8,
   "id": "2796d669",
   "metadata": {},
   "outputs": [
    {
     "name": "stdout",
     "output_type": "stream",
     "text": [
      "mehmet\n"
     ]
    }
   ],
   "source": [
    "class oyuncu():\n",
    "    def __init__(self,isim,rütbe):\n",
    "        self.isim=isim\n",
    "        self.rütbe=rütbe\n",
    "        self.güç=0\n",
    "        \n",
    "    def hareket_et(self):\n",
    "        print(\"hareket ediliyor...\")\n",
    "        \n",
    "class asker(oyuncu):\n",
    "    def __init__(self,isim,rütbe):\n",
    "        super().__init__(isim,rütbe)\n",
    "        self.güç=100\n",
    "        \n",
    "obj1=asker(\"mehmet\",\"yüzbaşı\")\n",
    "print(obj1.isim)\n",
    "    "
   ]
  },
  {
   "cell_type": "code",
   "execution_count": null,
   "id": "949a337f",
   "metadata": {},
   "outputs": [],
   "source": []
  }
 ],
 "metadata": {
  "kernelspec": {
   "display_name": "Python 3 (ipykernel)",
   "language": "python",
   "name": "python3"
  },
  "language_info": {
   "codemirror_mode": {
    "name": "ipython",
    "version": 3
   },
   "file_extension": ".py",
   "mimetype": "text/x-python",
   "name": "python",
   "nbconvert_exporter": "python",
   "pygments_lexer": "ipython3",
   "version": "3.11.5"
  }
 },
 "nbformat": 4,
 "nbformat_minor": 5
}
